{
 "cells": [
  {
   "cell_type": "code",
   "execution_count": 19,
   "metadata": {},
   "outputs": [],
   "source": [
    "# data/eval_diff.xlsxを読み込んで、dictに変換する\n",
    "import pandas as pd\n",
    "import numpy as np\n",
    "\n",
    "def read_eval_diff(path='../data/eval_diff.csv'):\n",
    "    df = pd.read_csv(path)\n",
    "    return df"
   ]
  },
  {
   "cell_type": "code",
   "execution_count": 39,
   "metadata": {},
   "outputs": [
    {
     "name": "stdout",
     "output_type": "stream",
     "text": [
      "{'【スマホでpolice brutalityを潰そう】mixidea高校定期練習': [3, 2, 2], '【小石川高校 vs WSDC連合】高校定期練【高校生のバイトって実際どうなん】': [3, 4, 2], '銀杏杯 2016 Oct. Gov.NitA Opp.KDS': [3, 3], '【民営化 vs 国営化】mixidea高校定期練習': [2, 3, 3], '【政治家の私生活報道】mixidea定期高校練習': [4, 2], '【確かに戦隊モノって女性ヒーローいないよに】mixidea高校定期練習': [2, 1], '【デュエルしようぜ】mixidea高校定期練習': [3, 2]}\n",
      "{'【スマホでpolice brutalityを潰そう】mixidea高校定期練習': 0.4714045207910317, '【小石川高校 vs WSDC連合】高校定期練【高校生のバイトって実際どうなん】': 0.816496580927726, '銀杏杯 2016 Oct. Gov.NitA Opp.KDS': 0.0, '【民営化 vs 国営化】mixidea高校定期練習': 0.4714045207910317, '【政治家の私生活報道】mixidea定期高校練習': 1.0, '【確かに戦隊モノって女性ヒーローいないよに】mixidea高校定期練習': 0.5, '【デュエルしようぜ】mixidea高校定期練習': 0.5}\n",
      "0.5370436603585413\n"
     ]
    }
   ],
   "source": [
    "data = read_eval_diff()\n",
    "\n",
    "dict_eval = {}\n",
    "for title in data[\"評価した動画タイトル\"]:\n",
    "    dict_eval[title] = []\n",
    "\n",
    "for title, eval in zip(data[\"評価した動画タイトル\"], data[\"試合全体に関して、各項目を評価してください。 [議論は噛み合っていましたか？]\"]):\n",
    "    if eval == \"そう思う\":\n",
    "        dict_eval[title].append(4)\n",
    "    elif eval == \"どちらかというとそう思う\":\n",
    "        dict_eval[title].append(3)\n",
    "    elif eval == \"どちらかというとそう思わない\":\n",
    "        dict_eval[title].append(2)\n",
    "    elif eval == \"そう思わない\":\n",
    "        dict_eval[title].append(1)\n",
    "\n",
    "#dict_evalから要素が一つだけなのを削除\n",
    "filter_dict_eval = {k: v for k, v in dict_eval.items() if len(v) > 1}\n",
    "\n",
    "print(filter_dict_eval)\n",
    "\n",
    "#それぞれに対し標準偏差を計算\n",
    "std_dict = {}\n",
    "for title, eval in filter_dict_eval.items():\n",
    "    std_dict\n",
    "    std_dict[title] = np.std(eval)\n",
    "\n",
    "print(std_dict)\n",
    "print(\"噛み合い度合い：\"+np.mean(list(std_dict.values())))"
   ]
  },
  {
   "cell_type": "code",
   "execution_count": null,
   "metadata": {},
   "outputs": [],
   "source": [
    "data = read_eval_diff()\n",
    "\n",
    "dict_eval = {}\n",
    "for title in data[\"評価した動画タイトル\"]:\n",
    "    dict_eval[title] = []\n",
    "\n",
    "for title, eval in zip(data[\"評価した動画タイトル\"], data[\"試合全体に関して、各項目を評価してください。 [議論は噛み合っていましたか？]\"]):\n",
    "    if eval == \"そう思う\":\n",
    "        dict_eval[title].append(4)\n",
    "    elif eval == \"どちらかというとそう思う\":\n",
    "        dict_eval[title].append(3)\n",
    "    elif eval == \"どちらかというとそう思わない\":\n",
    "        dict_eval[title].append(2)\n",
    "    elif eval == \"そう思わない\":\n",
    "        dict_eval[title].append(1)\n",
    "\n",
    "#dict_evalから要素が一つだけなのを削除\n",
    "filter_dict_eval = {k: v for k, v in dict_eval.items() if len(v) > 1}\n",
    "\n",
    "print(filter_dict_eval)\n",
    "\n",
    "#それぞれに対し標準偏差を計算\n",
    "std_dict = {}\n",
    "for title, eval in filter_dict_eval.items():\n",
    "    std_dict\n",
    "    std_dict[title] = np.std(eval)\n",
    "\n",
    "print(std_dict)\n",
    "print(\"噛み合い度合い：\"+np.mean(list(std_dict.values())))"
   ]
  }
 ],
 "metadata": {
  "kernelspec": {
   "display_name": "base",
   "language": "python",
   "name": "python3"
  },
  "language_info": {
   "codemirror_mode": {
    "name": "ipython",
    "version": 3
   },
   "file_extension": ".py",
   "mimetype": "text/x-python",
   "name": "python",
   "nbconvert_exporter": "python",
   "pygments_lexer": "ipython3",
   "version": "3.11.5"
  }
 },
 "nbformat": 4,
 "nbformat_minor": 2
}
