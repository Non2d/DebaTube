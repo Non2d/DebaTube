{
 "cells": [
  {
   "cell_type": "code",
   "execution_count": 25,
   "metadata": {},
   "outputs": [],
   "source": [
    "import json\n",
    "with open(\"../corpus/debate_scripts.json\") as f, open(\"output.txt\", \"w\") as out_f:\n",
    "    data = json.load(f)\n",
    "    for round in data:\n",
    "        print(\"title: \", round[\"source\"][\"title\"], file=out_f)\n",
    "        for id, speech in enumerate(round[\"speeches\"]):\n",
    "            print(f\"speech id: {id}\", file=out_f)\n",
    "            for id, ADU in enumerate(speech[\"ADUs\"]):\n",
    "                print(f\"{ADU['id']} {ADU['transcript']}\", file=out_f)"
   ]
  },
  {
   "cell_type": "code",
   "execution_count": 1,
   "metadata": {},
   "outputs": [],
   "source": [
    "import json\n",
    "import re\n",
    "\n",
    "with open(\"../corpus/debate_scripts.json\") as f:\n",
    "    data = json.load(f)\n",
    "    for round in data:\n",
    "        title = re.sub(r'[\\/:*?\"<>|]', '', round[\"source\"][\"title\"])  # Remove invalid filename characters\n",
    "        with open(f\"dummy_timestamps/{title}.txt\", \"w\") as out_f:\n",
    "            for id, speech in enumerate(round[\"speeches\"]):\n",
    "                print(f\"speech id: {id}\", file=out_f)\n",
    "                for id, ADU in enumerate(speech[\"ADUs\"]):\n",
    "                    print(f\"{ADU['id']} {ADU['transcript']}\", file=out_f)"
   ]
  },
  {
   "cell_type": "code",
   "execution_count": 25,
   "metadata": {},
   "outputs": [
    {
     "name": "stdout",
     "output_type": "stream",
     "text": [
      "[{'start': 0.0, 'end': 1.0, 'text': \"Thank you, Mr. Speaker and ladies and gentlemen in this house. Our side believes that we want to protect most moral people, every people, so every innocent people. And now another thing that's called the technology of hacking system or security camera is developing now and police can capture surprise information in the group of terrorists. So, thanks to those things, we can search those terrorists' move and act. \"}, {'start': 1.0, 'end': 2.0, 'text': \"And the payment of ransom is money source of terrorist and criminal group. Huge rate of money source is ransom. Plus, criminal is very malicious. So, in many cases, even if victim's side pays huge money to the terrorist group and criminal groups, the victim will be killed by them. This is a very major case, but the family wants to protect their own family or own child, so they give money.\"}, {'start': 2.0, 'end': 3.0, 'text': \"Okay, let's move on to my argument. I have two arguments in this round. Firstly, I'd like to talk about long-term benefits, capturing those terrorists' source of money. And secondly, to save all people and victims, this plan is a very efficient way. \"}, {'start': 3.0, 'end': 4.0, 'text': 'Before, I want to define this motion. This house means all liberal democratic country. And when a criminal requests ransom from individual victims, family, or government or bank, in all situations, we criminalize the payment of ransom.'}, {'start': 4.0, 'end': 5.0, 'text': \"Okay, let's move on to my argument. Firstly, I'd like to talk about the long-term benefits. Under the status quo, family strongly love the child or they have a very great memory from the child, so they strongly want to save, right? So, suddenly, they give money to terrorist groups. They are very confused about the situation; it's a crazy situation. So, they easily do without concern with police or specialists, so they cannot judge this system objectively. \"}, {'start': 5.0, 'end': 6.0, 'text': \"So, in the rare case, they are very rich, so they can give the money. Another rare case, they are poor, they rent from the black market or something, not so good source of the money, comes to the poor family's house, and this money goes to the terrorist groups. So, terrorists get a huge source of money. \"}, {'start': 6.0, 'end': 7.0, 'text': 'Why is it so big harm? Because if the terrorists have huge money, they can buy more weapons, such as guns and more harmful drugs or something, so they can expand power easily if they have more money. So, worse accidents will occur due to the money. So, we want to stop this source.'}, {'start': 7.0, 'end': 8.0, 'text': \"After taking this plan, we criminalize this payment of ransom. So, reduce payment. Many people don't want to criminalize the ransom, so they can see this situation more objectively, and this is criminalized. So, if I give the money, it is criminalized, so we should consult with specialists or police. \"}, {'start': 8.0, 'end': 9.0, 'text': 'So, in that case, police can effectively solve the situation because they have the technology, as I mentioned in the introduction, hacking or searching through the security camera, we can effectively search the terrorists and arrest them. So, in this case, we believe that long term, we can arrest the terrorists and save more, not expand the harm for another people and worse case.'}, {'start': 9.0, 'end': 10.0, 'text': 'And secondly, I would like to explain why this plan can effectively save more people than now. So, as I mentioned in the introduction, even just paying of ransom to terrorist groups, this money, in the end, the terrorist is very malicious, so they kill or request more money. So, this request is not cut by only one request of ransom, so this ransom cannot save the victims, surely. '}, {'start': 10.0, 'end': 11.0, 'text': 'And also, as I mentioned again and again, this money is very harmful to society because worse accidents occur and also the individual family and victims cannot save thanks to ransom. So, we strongly believe that ransom is meaningless for saving the individual victims and also it is very harmful for the society. In this viewpoint, we strongly propose this motion and I am happy to propose. Thank you.'}]\n",
      "[{'start': 100.0, 'end': 101.0, 'text': 'Ladies and gentlemen, what the government says is that the reason why we have to prosecute the terrorists is that because they killed the citizens. They murdered the citizens. Ladies and gentlemen, we think that because we know that in order not to concede the terrorists, they are going to sacrifice the citizens. We believe that it is not very counterproductive if the fundamental purpose was against terrorism. '}, {'start': 101.0, 'end': 102.0, 'text': 'So, before landing on my argumentation, I have to talk about something about the science department.'}, {'start': 102.0, 'end': 103.0, 'text': \"Firstly, we have to confirm that the resource for the terrorists does not necessarily come from the nation itself. Ladies and gentlemen, for example, the income of the ISIS does not come from the oil field they took or the donation from some assistance to these kinds of terrorist groups. We think that in those cases, it is very unclear from the government's argumentation how to what extent the existence of ransom is going to contribute to the genocide of the terrorist groups. However, we think that in those cases, in this debate, we think that because the ransom itself does not so contribute to the empowerment of the terrorists, we don't think it is a good proposal.\"}, {'start': 103.0, 'end': 104.0, 'text': \"So, about the model of the government side, the government side has said that they are going to let the police to censor the citizens. We think it is not realistic. Under their model, they are going to let the police to write a statement. We think it is not something justifiable, even if it can contribute to the vanishment of the terrorists. And also, we think that because even if the government does state that its citizens not to go to the terrorist group, we think that as long as the government can't fulfill their duty to protect the citizens, that means the government should not respect individuals to save the others or to save the citizens.\"}, {'start': 104.0, 'end': 105.0, 'text': 'So, moving on to the government or the opposition side. About the model of the opposition side, we have to go by four. First, we are going to take the countermeasure against the terrorists. That is to say, after helping the hostages, we are going to do the air strike and so on.'}, {'start': 105.0, 'end': 106.0, 'text': \"Secondly, as I said, the income of the terrorists comes from not only the ransom, but rather comes from the other resources such as the oil fields, such as QSOS, ISIS, and so on. We see that we don't necessarily pay the ransom in the first place.\"}, {'start': 106.0, 'end': 107.0, 'text': 'Third, we are going to give the choice for citizens whether or not they are going to pay the ransom or not. We require citizens to compare the risk that it is beneficial for themselves to save the hostages and so on. '}, {'start': 107.0, 'end': 108.0, 'text': 'And also, fourth, in the paradigm, we are going to require every state to intervene in the negotiation of terrorists in order to moderate the amount of ransom that the citizens are going to pay for saving the hostages and so on.'}, {'start': 108.0, 'end': 109.0, 'text': \"So, fundamentally, we think that because there are some factors, the inevitable kidnapper is one of those. This is my first idea. We think that fundamentally, in the case of the spy or the social, that is, government, that is sent to the territory of terrorists, we think that they are not responsible for their own fault. That is to say, they kidnap them. We think that because the government forced these kind of people to go to the terrorist's territory, and as a consequence, they are going to be arrested by terrorists. In that case, you have to immobilize the government and make them fully responsible for saving these kind of people because we think that the government let them to go to the very dangerous area, and as a consequence, they are going to pay for their safety. We think that in that case, the government shouldn't anyway to deny the payment for ransom. \"}, {'start': 109.0, 'end': 110.0, 'text': 'And also, we think that payment for ransom is the most effective way to save these kind of hostages because we think that if terrorists does not release these kind of hostages, that means that terrorists are going to express in public that if we are going to get the ransom, we are not going to release, we are not going to return those hostages. So if they say that the terrorist group is going to be incentivized by the public to pay ransom, so in that case, the case is a complete counter-vote for the terrorist group. Therefore, we think that if they pay the ransom, the terrorist group has an incentive to return these kind of hostages. '}, {'start': 110.0, 'end': 111.0, 'text': 'And also, even if they stop the payment for ransom, the kidnapping does not stop because we think that the purpose of kidnapping does not necessarily come from the income of the ransom, ladies and gentlemen. For example, ISIS kidnapped the Syrians in order for their local government in order to fear the public and also it can be beneficial for itself. And also, in those cases, the purpose of kidnapping does not necessarily come from the ransom itself. Therefore, we think that because sometimes the government is fully responsible for the payment of ransom and also there is an inevitable case of kidnapping and also even after the kidnapping, the oppressor will not protect or prevent the kidnapping to be possible for the oppressor.'}, {'start': 111.0, 'end': 112.0, 'text': \"And also, in addition to that, we have to recognize that even if people fully take care about and fully pay attention, they sometimes will be caught by terrorism. For example, even if you are outside of the terrorist territory, in any state that's caught, for example, the member of ISIS is going to cause you beyond the border of the country and also as a consequence, even if you pay full attention for that, you are going to be arrested by terrorism. That is to say, we need to ensure that each citizen can protect themselves. \"}, {'start': 112.0, 'end': 113.0, 'text': 'And also, why do we need to ensure the right to help others? We think that the reason why we allow the citizens as a self-defense to kill other people is that because the government does not have the total self-duty to protect its citizens, citizens do not have any way to protect themselves by themselves. We think that in this case, it can be applicable because we think that the government fails to stop the citizens to go to these kinds of dangerous areas or from being captured by terrorism. We think that in that case, because citizens have no way to protect themselves, and also, government cannot fulfill these kinds of rights and these kinds of duties, in that case, obviously, government should ensure that they help themselves.'}, {'start': 113.0, 'end': 114.0, 'text': 'And also, in addition to that, the biggest problem of this government side is that why they can justify to criminalize the act to save these kinds of citizens? Because we think that this is completely against the purpose of against terrorism.'}]\n",
      "[{'start': 200.0, 'end': 201.0, 'text': \"Under the status quo, there are many incidents that are by terrorists. Many people are killed in airports or by Islamic State or ISIS. Many victims are existing and the victims' families suffer from the blacking of the family. They are killed by the terrorist, the service terrorists. So, we have to stop the situation. But after taking a bath, under the status quo, there are no solutions to stop. Uniquely, there is a high possibility to save the innocent citizens. So, we cannot stop the terrorists from killing people.\"}, {'start': 201.0, 'end': 202.0, 'text': 'After taking this plan, we can minimize the situation because the almost payment of the terrorists is non-sum now. Many money is contributed to the terrorists by the citizens or government. Also, the individual issue. This is selfish and this makes the more serious situation around the world. So, we have to propose this proposal. Sorry.'}, {'start': 202.0, 'end': 203.0, 'text': \"Firstly, I will refute my previous speaker. The previous speaker told you that the payment of ransom is small and it does not affect the revenue of the terrorists and it does not cause a terrible situation for the terrorists. But this is not true. Because if one person is caught by the terrorists, the government or someone who wants to save that person has to pay 1 billion yen or 10 billion yen or some very expensive money. So that's why, please imagine, the tank or rocket is about 1 billion yen or 10 million yen or so on. So, that's why, by one person, only one person, the terrorists can buy many weapons. And by buying only that weapon, many people are threatened by the situation. So, there is a possibility to be killed by the rocket or tank or so, a very serious, a very powerful weapon.\"}, {'start': 203.0, 'end': 204.0, 'text': 'So, if around the world, the many, sorry, the many victims and many people pay so much money to the terrorists, terrorist groups, as my partner told you that the terrorists can get much money and can have possibility to expand their power and after that, around the world, there are many incidents by terrorists and many people will suffer from the threat by the terrorists. It is very harmful for the around the world, many people. Sorry, let me move on our argument.'}, {'start': 204.0, 'end': 205.0, 'text': 'I will explain the, by payment of ransom, the terrorists will abuse that right to get the money, much money, and the harmful of the situation. One argument. And secondly, I will comparison the both side. Firstly, I will explain the payment of ransom is harmful. Okay.'}, {'start': 205.0, 'end': 206.0, 'text': '<POI> So, do you think that the bomb which killed thousands of people are 2 billion yen?'}, {'start': 206.0, 'end': 207.0, 'text': 'If the terrorists are followed by the government or police, it is harmful for terrorists itself. So, no. The payment of ransom should be expensive because also terrorists have risk to be watched by the government or catched by the government because of the interaction with the terrorists and government. So, terrorists have risk, so terrorists can need much money. So, in order to save the victims, the citizens have to pay much money, something billion yen.'}, {'start': 207.0, 'end': 208.0, 'text': \"Firstly, I will explain the status quo, the payment of ransom. The payment of ransom is very expensive, so that's why the terrorists, as I told you in my presentation, there are many weapons in the terrorist group and they can kill other people. Please imagine, if one country, one person pay much money, rich man, and pay much money for terrorists, and terrorists have much money, and even if the people can only save that victim, important for me, many people around the world will be, other countries, other innocent citizens will be suffered from the threat by the terrorists. It is very harmful for other people or many citizens. So, that's why we have to save that many people.\"}, {'start': 208.0, 'end': 209.0, 'text': 'Secondly, I will comparison the both sides. After taking this plan, in the opposition paradigm, there are many incidents than now, and many people were killed by the terrorists, so we have to save that person by taking this proposal. Thank you very much.'}]\n",
      "[{'start': 300.0, 'end': 301.0, 'text': \"Okay, ladies and gentlemen, we believe that today, all of the points, uh, today, the government side has not pointed out any justification in which why we can actually criminalize these people who actually want to just say solely want to save their families, their loved ones' lives. So we believe, so, uh, I'd like to point out, uh, why under the criminal justice system, this is not justifiable in my speech later on.\"}, {'start': 301.0, 'end': 302.0, 'text': \"So, uh, we are here to oppose. So, uh, basically in my speech, I'd like to do, uh, three things. Firstly, I'd like to talk about, so why under the criminal justice system, why this is not justifiable. So we have, uh, brought the criteria here. And, um, secondly, I'd like to talk about how in the practical terms, this is, this plan is actually going to be counterproductive and, uh, this will actually, uh, kill many more innocent people under their paradigm. And thirdly, I'd like to talk about how, uh, how it is the state's responsibility and, uh, it is only one form of self-defense in this term.\"}, {'start': 302.0, 'end': 303.0, 'text': 'So, uh, so yes, but before that, some couple of rebuttals to their points. Um, so firstly, about their point about, um, how we are going to, like, censor, uh, uh, security cameras and, like, hacking systems to these families or something. Well, we are very, uh, so we do not understand this vulnerability at all, right? How are these people going to be safe after doing this? And why is this going to be justified to continue censoring these, like, innocent people?'}, {'start': 303.0, 'end': 304.0, 'text': 'And secondly, uh, they talked about the long-term benefit, how we can stop the source and it will, um, somehow, uh, lead to saving people. But they have not given any mechanism to this point, right? '}, {'start': 304.0, 'end': 305.0, 'text': 'So how will the stopping of payment of ransom actually save people, which I will talk about later on because the source of, source is not only ransom and there are many other criteria and factors that actually is empowering these terrorist groups.'}, {'start': 305.0, 'end': 306.0, 'text': \"And, um, we believe that actually, uh, when we, uh, this causes, this causes detrimental harm because when we stop these families from being able to pay this ransom, what will actually happen is that these families will not forget this fact that they were not allowed to, uh, that they, that if they, like, pay this ransom, they are going to be criminalized. They will feel like they will be betrayed by the state. So it's actually rather just empowering the terrorists if they see that the state is like conflicting within themselves. So this is actually causes much more harm.\"}, {'start': 306.0, 'end': 307.0, 'text': 'And so, uh, and also, uh, there is like other ways, like we can, uh, we can at first like pay and save this one individual that will, that will definitely be, uh, that will definitely be, uh, their lives will be taken away under their paradigm. And later on we can combat the terrorists in other ways, which is, uh, which is much more going to be important and collect the money afterwards. So, uh, we should leave this choice to be able to, uh, pay this ransom. So I will talk about that later on. So moving on to this, just, uh, to why this is, uh, to my point.'}, {'start': 307.0, 'end': 308.0, 'text': 'So firstly, why this is not, why this plan is not justifiable under the criminal justice system. So in the criminal justice system, firstly, we need to see whether this act is illegal or not, right? So, um, in the case of the payment of ransom, it does not connect to the direct harm to somebody else. So like maybe the harm is like, no, maybe the harm is like, uh, might occur, but maybe it might not. '}, {'start': 308.0, 'end': 309.0, 'text': 'So in this criminal justice system, the punishment has to be objective. But in this case, it is extremely subjective because like even now there are still cases where, uh, people, uh, where like ransom is not paid. However, these terrorist groups still exist, right? So like for example, in the cases of ISIS, they export, uh, oil and they, uh, collect the money from that. And rather these kinds of things are, uh, these kinds of things are the factors and resources for these terrorist groups. So just by, uh, just by stopping this payment of ransom does not lead to, uh, the benefits that they want to talk about. So we have to, uh, combat in other ways.'}, {'start': 309.0, 'end': 310.0, 'text': \"And secondly, uh, we have to, uh, consider the responsibility of these individuals. So, uh, if these, uh, so the people who paid the ransom has no intention to harm others, right? They solely want to save their families and their loved ones. So we cannot, um, just simply say that, uh, they are not, they are going to be criminalized just because they want to save these people. And it is not justifiable because it means that the, uh, criminalizing means that the state is actually going to ignore these people's, uh, these people's lifestyle. It's definitely going to be taken away under their paradigm.\"}, {'start': 310.0, 'end': 311.0, 'text': \"So moving on to this practical benefits, uh, we believe that, um, uh, taking this plan is completely counterproductive and will cause many more innocent people's lives to be deprived. So, uh, there's going to be two consequences that can be, uh, that can be thought. \"}, {'start': 311.0, 'end': 312.0, 'text': \"So firstly, uh, when we criminalize it, uh, uh, what might happen is that the families are going to, um, are going to negotiate with the criminal individually and secretly. So rather taking this plan is just going to push this, uh, push this payment of ransom underground. And, uh, if so, we believe it's a comparative better than the status quo when the state, when the state can actually intervene and the state can also, like, uh, negotiate instead of, uh, instead of making these families do it. \"}, {'start': 312.0, 'end': 313.0, 'text': 'And when the families do it individually and secretly, they will have to pay a huge amount of money. And rather this means that, uh, like huge, much more big, huger and bigger amounts of money. So rather this is going to empower terrorists, right? '}, {'start': 313.0, 'end': 314.0, 'text': \"And secondly, uh, when, uh, uh, we should leave, like, a ground for these, uh, uh, to, like, negotiate and pay. Because when, like, we cannot pay making ransom, it's going to be difficult. These terrorists are not going to be satisfied, right? They are going to be desperate to get more money. So what will happen is that they are going to be kidnapped more people and they are going to kill more people. And for example, they will take, take over the states within that, uh, territory of their terrorist groups and they are going to kill innocent people and they are going to, like, uh, take over the, uh, banks and et cetera to get even more money and to empower themselves. And so we, we believe that this is actually going to kill many, many more innocent people under their power then.\"}, {'start': 314.0, 'end': 315.0, 'text': \"So thirdly, uh, we believe that, um, uh, this, as, as we have already told you, uh, it is the state's responsibility that the state cannot seek and protect the safety of its citizens, right? So, uh, it is not justifiable to criminalize the act of saving someone as we have already told you. So we believe that the government has to do its best to save these people and completely ignoring them and completely just pushing them that saying that it is, uh, it is something, it is going to be criminalized is, uh, uh, is very detrimental, uh, is very harmful because, uh, it means that the state is going to actively kill someone, right?\"}, {'start': 315.0, 'end': 316.0, 'text': \"Uh, they are going to ignore this one definite victim that is going to actually happen. So like, for example, even in today, like when the police is not there, others can try to save it, save someone even if, uh, even if, even if, even if it causes harms to others. So in this case, it is the state's responsibility to, uh, uh, to be able to leave a choice, at least leave a choice for these people to pay the ransom and, and save this one, uh, life that is definitely going to be deprived under their paradigm.\"}, {'start': 316.0, 'end': 317.0, 'text': 'So, uh, so, uh, concluding my speech, when you consider how many lives are actually going to be taken away, how many innocent people are actually going to be killed, uh, the opposition side win about the uncertain benefits coming from the, uh, government side.'}]\n",
      "[{'start': 400.0, 'end': 401.0, 'text': \"The overall foundation coming from the government's guidelines are, in order to save the mass population, they are going to sacrifice the financial. But if it is possible, then we think it is better. \"}, {'start': 401.0, 'end': 402.0, 'text': 'However, we think that because of lack of mechanism, how they are going to de-empower the terrorists is unclear. And also, that it does not believe that they actually the weaken the terrorists. And also, perfectly to prevent terrorism, we oppose this proposal.'}, {'start': 402.0, 'end': 403.0, 'text': 'Because we think that by taking this proposal, we are going to sacrifice that individual who are not responsible for being captured by terrorists. And also, because the government has a responsibility to save these kind of individuals. '}, {'start': 403.0, 'end': 404.0, 'text': \"So, firstly, I'm going to point out why this government side does not have any work ability to prevent terrorism. And secondly, given that, what state should do and what is the responsibility of the state and the government.\"}, {'start': 404.0, 'end': 405.0, 'text': \"Firstly, the government has constantly told you, by taking this proposal, they are going to prevent, they are going to protect civilians. However, we don't think that it is the case. And lastly, as I and my partner have constantly told you, because the income of terrorists does not necessarily come from the ransom, it is not genuine. Because they have any way to gain the financial power, such as the exploitation, and so on.\"}, {'start': 405.0, 'end': 406.0, 'text': \"In that case, if you want to do terrorism, what you need is a bomb, a gun, and so on. We don't think that they need to gain thousands of money in order to get that gun or bomb, ladies and gentlemen. We think that in those cases, we cannot understand why in their paradigm they can completely protect the citizens, and also why they can justify the sacrifice of citizens, ladies and gentlemen.\"}, {'start': 406.0, 'end': 407.0, 'text': 'So, secondly, what state should do? As I said in the past speeches, though the auditing was different, there are people who are not responsible for their being captured. For example, spies, soldiers, journalists, and so on. These kind of people do not arbitrarily go to these kind of areas to be captured by terrorists, ladies and gentlemen. Because these kind of people are sometimes forced to go to these kind of dangerous areas, like government, companies, and so on.'}, {'start': 407.0, 'end': 408.0, 'text': \"Because we think that it is understandable that those people who are going to be forced to go to these kind of areas, and also selfishly being captured, it can be understandable, but there is no mention of that one. We think that in that case, those people were not fully responsible for their own act. They believed that the government had a responsibility to protect its citizens, and also there's no justification to prohibit to save these kind of people by the family or state, ladies and gentlemen. So because we believe that the government feels its responsibility to protect citizens, to ensure the safety of citizens, we believe that the government should make an effort to protect citizens.\"}, {'start': 408.0, 'end': 409.0, 'text': 'And also, as the opposition side constantly told you, because the reason why we have to prosecute the terrorists is to save its citizens. However, this government is going to sacrifice citizens in order to weaken the terrorists, ladies and gentlemen. Even if in that paradigm, the terrorism will constantly occur, and also they have not abandoned the protection of citizens, and also, however, in the paradigm of the opposition side, we are going to protect citizens, however, the situation does not slightly change.'}, {'start': 409.0, 'end': 410.0, 'text': \"As my partner has told you, because after taking this proposal, because the family wants to protect, wants to save their members of the family, they are going to do the negotiation with every secrecy. That is to say that the payment of ransom will not be possible, and also in that scenario, it is more harmful because we believe that there's no government protection in that negotiation, and also they cannot supervise the negotiation. In those cases, because we are against terrorism.\"}]\n",
      "[{'start': 500.0, 'end': 501.0, 'text': 'Thank you, Mr. Speaker, ladies and gentlemen in this house. We want to cut the source and we want to protect the warse accidents such as more 100,000 or 1 billion people are killed by the gas or bombs in advance.'}, {'start': 501.0, 'end': 502.0, 'text': \"So and where after taking this plan, our government clearly showed that the citizen and terrorists, the government's stance that ransom is guilty. Terrorist group's action won't escalate. As usual, government remain to give money to terrorists. They request a yen and yen. And we want to stop this occasion and this motion is uniquely and only way to cut source of this case. \"}, {'start': 502.0, 'end': 503.0, 'text': \"OK. Let's move on my summarize. But I want to repeat my previous speaker. I have three refutations. Firstly, she said family cannot save because they cannot give ransom to terrorists. So it is pity. But it is not true. But as I mentioned in my constructive speech, but even if the ransom, they are family in the ransom, in the major case, the victim, the child will be killed by the terrorist. So even if they cannot save, in most case, they are pity. So we stop this. It is no problem. \"}, {'start': 503.0, 'end': 504.0, 'text': \"And secondly, she said we don't save the justification, so I want to justificate now. Namsung is equal to give money to terrorists. It is equal to support terrorist act. It is very guilty. Even if subjective, but support is very guilty. So it is in the criminal justice system, they should be criminalized, right? Yes. OK. \"}, {'start': 504.0, 'end': 505.0, 'text': 'And thirdly, they negotiate secretly. So this is a good point. But we believe that police is not so, so police can intervene also secretly not to know from terrorists. They do more secretly and they can, police is good, is specialist. So only families or not specialist are nervous people, negotiate secretly is more than our police can do well than our individual. So we think thanks to police, it is effectively solve the problem. '}, {'start': 505.0, 'end': 506.0, 'text': \"OK. I want to summarize this debate. I have two crash points. Firstly, which plan can prevent worst case accidents such as one million people died. This plan, as I told you that in confused situation, people cannot think safely deeply and they do easily to give money to terrorists. So it is not saving victims and our opposition says countermeasures but it is no mechanism and they are irrational in public place. But I don't know, I don't know the mechanism. So our side is sperior.\"}, {'start': 506.0, 'end': 507.0, 'text': \"And secondly, which is better, protect victims and the large number of people. Opposition side strongly talk about one people's right, one people's right. But our side mentions again and again the major majority people's right. So which is more important to protect? The answer is surely the more people. So from that reason, our side's theory to opposition side. Thank you for listening.\"}]\n"
     ]
    }
   ],
   "source": [
    "import json\n",
    "import re\n",
    "\n",
    "with open(\"../corpus/debate_scripts.json\") as f:\n",
    "    data = json.load(f)\n",
    "    for round in data:\n",
    "        title = re.sub(r'[\\/:*?\"<>|]', '', round[\"source\"][\"title\"])  # Remove invalid filename characters\n",
    "        \n",
    "        for speech_id, speech in enumerate(round[\"speeches\"]):\n",
    "            tmp_segment_list = []\n",
    "            adus = speech[\"ADUs\"]\n",
    "            for adu_id, adu in enumerate(adus):\n",
    "                tmp_segment_dict = {}\n",
    "                tmp_segment_dict[\"start\"] = 100.0*speech_id+adu_id\n",
    "                tmp_segment_dict[\"end\"] = 100.0*speech_id+adu_id+1\n",
    "                tmp_segment_dict[\"text\"] = adu[\"transcript\"]\n",
    "                tmp_segment_list.append(tmp_segment_dict)\n",
    "            print(tmp_segment_list)\n",
    "            tmp_whisper_object = {\n",
    "                \"task\": \"transcribe\",\n",
    "                \"language\": \"english\",\n",
    "                \"duration\": 2000.00,\n",
    "                \"segments\": tmp_segment_list\n",
    "            }\n",
    "            with open (f\"dummy_timestamps/{title}_{speech_id}.json\", \"w\") as out_f:\n",
    "                json.dump(tmp_whisper_object, out_f)\n",
    "        break"
   ]
  },
  {
   "cell_type": "code",
   "execution_count": 30,
   "metadata": {},
   "outputs": [
    {
     "name": "stdout",
     "output_type": "stream",
     "text": [
      "{'prop1': [{0: \"Thank you, Mr. Speaker and ladies and gentlemen in this house. Our side believes that we want to protect most moral people, every people, so every innocent people. And now another thing that's called the technology of hacking system or security camera is developing now and police can capture surprise information in the group of terrorists. So, thanks to those things, we can search those terrorists' move and act. \"}, {1: \"And the payment of ransom is money source of terrorist and criminal group. Huge rate of money source is ransom. Plus, criminal is very malicious. So, in many cases, even if victim's side pays huge money to the terrorist group and criminal groups, the victim will be killed by them. This is a very major case, but the family wants to protect their own family or own child, so they give money.\"}, {2: \"Okay, let's move on to my argument. I have two arguments in this round. Firstly, I'd like to talk about long-term benefits, capturing those terrorists' source of money. And secondly, to save all people and victims, this plan is a very efficient way. \"}, {3: 'Before, I want to define this motion. This house means all liberal democratic country. And when a criminal requests ransom from individual victims, family, or government or bank, in all situations, we criminalize the payment of ransom.'}, {4: \"Okay, let's move on to my argument. Firstly, I'd like to talk about the long-term benefits. Under the status quo, family strongly love the child or they have a very great memory from the child, so they strongly want to save, right? So, suddenly, they give money to terrorist groups. They are very confused about the situation; it's a crazy situation. So, they easily do without concern with police or specialists, so they cannot judge this system objectively. \"}, {5: \"So, in the rare case, they are very rich, so they can give the money. Another rare case, they are poor, they rent from the black market or something, not so good source of the money, comes to the poor family's house, and this money goes to the terrorist groups. So, terrorists get a huge source of money. \"}, {6: 'Why is it so big harm? Because if the terrorists have huge money, they can buy more weapons, such as guns and more harmful drugs or something, so they can expand power easily if they have more money. So, worse accidents will occur due to the money. So, we want to stop this source.'}, {7: \"After taking this plan, we criminalize this payment of ransom. So, reduce payment. Many people don't want to criminalize the ransom, so they can see this situation more objectively, and this is criminalized. So, if I give the money, it is criminalized, so we should consult with specialists or police. \"}, {8: 'So, in that case, police can effectively solve the situation because they have the technology, as I mentioned in the introduction, hacking or searching through the security camera, we can effectively search the terrorists and arrest them. So, in this case, we believe that long term, we can arrest the terrorists and save more, not expand the harm for another people and worse case.'}, {9: 'And secondly, I would like to explain why this plan can effectively save more people than now. So, as I mentioned in the introduction, even just paying of ransom to terrorist groups, this money, in the end, the terrorist is very malicious, so they kill or request more money. So, this request is not cut by only one request of ransom, so this ransom cannot save the victims, surely. '}, {10: 'And also, as I mentioned again and again, this money is very harmful to society because worse accidents occur and also the individual family and victims cannot save thanks to ransom. So, we strongly believe that ransom is meaningless for saving the individual victims and also it is very harmful for the society. In this viewpoint, we strongly propose this motion and I am happy to propose. Thank you.'}], 'opp1': [{11: 'Ladies and gentlemen, what the government says is that the reason why we have to prosecute the terrorists is that because they killed the citizens. They murdered the citizens. Ladies and gentlemen, we think that because we know that in order not to concede the terrorists, they are going to sacrifice the citizens. We believe that it is not very counterproductive if the fundamental purpose was against terrorism. '}, {12: 'So, before landing on my argumentation, I have to talk about something about the science department.'}, {13: \"Firstly, we have to confirm that the resource for the terrorists does not necessarily come from the nation itself. Ladies and gentlemen, for example, the income of the ISIS does not come from the oil field they took or the donation from some assistance to these kinds of terrorist groups. We think that in those cases, it is very unclear from the government's argumentation how to what extent the existence of ransom is going to contribute to the genocide of the terrorist groups. However, we think that in those cases, in this debate, we think that because the ransom itself does not so contribute to the empowerment of the terrorists, we don't think it is a good proposal.\"}, {14: \"So, about the model of the government side, the government side has said that they are going to let the police to censor the citizens. We think it is not realistic. Under their model, they are going to let the police to write a statement. We think it is not something justifiable, even if it can contribute to the vanishment of the terrorists. And also, we think that because even if the government does state that its citizens not to go to the terrorist group, we think that as long as the government can't fulfill their duty to protect the citizens, that means the government should not respect individuals to save the others or to save the citizens.\"}, {15: 'So, moving on to the government or the opposition side. About the model of the opposition side, we have to go by four. First, we are going to take the countermeasure against the terrorists. That is to say, after helping the hostages, we are going to do the air strike and so on.'}, {16: \"Secondly, as I said, the income of the terrorists comes from not only the ransom, but rather comes from the other resources such as the oil fields, such as QSOS, ISIS, and so on. We see that we don't necessarily pay the ransom in the first place.\"}, {17: 'Third, we are going to give the choice for citizens whether or not they are going to pay the ransom or not. We require citizens to compare the risk that it is beneficial for themselves to save the hostages and so on. '}, {18: 'And also, fourth, in the paradigm, we are going to require every state to intervene in the negotiation of terrorists in order to moderate the amount of ransom that the citizens are going to pay for saving the hostages and so on.'}, {19: \"So, fundamentally, we think that because there are some factors, the inevitable kidnapper is one of those. This is my first idea. We think that fundamentally, in the case of the spy or the social, that is, government, that is sent to the territory of terrorists, we think that they are not responsible for their own fault. That is to say, they kidnap them. We think that because the government forced these kind of people to go to the terrorist's territory, and as a consequence, they are going to be arrested by terrorists. In that case, you have to immobilize the government and make them fully responsible for saving these kind of people because we think that the government let them to go to the very dangerous area, and as a consequence, they are going to pay for their safety. We think that in that case, the government shouldn't anyway to deny the payment for ransom. \"}, {20: 'And also, we think that payment for ransom is the most effective way to save these kind of hostages because we think that if terrorists does not release these kind of hostages, that means that terrorists are going to express in public that if we are going to get the ransom, we are not going to release, we are not going to return those hostages. So if they say that the terrorist group is going to be incentivized by the public to pay ransom, so in that case, the case is a complete counter-vote for the terrorist group. Therefore, we think that if they pay the ransom, the terrorist group has an incentive to return these kind of hostages. '}, {21: 'And also, even if they stop the payment for ransom, the kidnapping does not stop because we think that the purpose of kidnapping does not necessarily come from the income of the ransom, ladies and gentlemen. For example, ISIS kidnapped the Syrians in order for their local government in order to fear the public and also it can be beneficial for itself. And also, in those cases, the purpose of kidnapping does not necessarily come from the ransom itself. Therefore, we think that because sometimes the government is fully responsible for the payment of ransom and also there is an inevitable case of kidnapping and also even after the kidnapping, the oppressor will not protect or prevent the kidnapping to be possible for the oppressor.'}, {22: \"And also, in addition to that, we have to recognize that even if people fully take care about and fully pay attention, they sometimes will be caught by terrorism. For example, even if you are outside of the terrorist territory, in any state that's caught, for example, the member of ISIS is going to cause you beyond the border of the country and also as a consequence, even if you pay full attention for that, you are going to be arrested by terrorism. That is to say, we need to ensure that each citizen can protect themselves. \"}, {23: 'And also, why do we need to ensure the right to help others? We think that the reason why we allow the citizens as a self-defense to kill other people is that because the government does not have the total self-duty to protect its citizens, citizens do not have any way to protect themselves by themselves. We think that in this case, it can be applicable because we think that the government fails to stop the citizens to go to these kinds of dangerous areas or from being captured by terrorism. We think that in that case, because citizens have no way to protect themselves, and also, government cannot fulfill these kinds of rights and these kinds of duties, in that case, obviously, government should ensure that they help themselves.'}, {24: 'And also, in addition to that, the biggest problem of this government side is that why they can justify to criminalize the act to save these kinds of citizens? Because we think that this is completely against the purpose of against terrorism.'}], 'prop2': [{25: \"Under the status quo, there are many incidents that are by terrorists. Many people are killed in airports or by Islamic State or ISIS. Many victims are existing and the victims' families suffer from the blacking of the family. They are killed by the terrorist, the service terrorists. So, we have to stop the situation. But after taking a bath, under the status quo, there are no solutions to stop. Uniquely, there is a high possibility to save the innocent citizens. So, we cannot stop the terrorists from killing people.\"}, {26: 'After taking this plan, we can minimize the situation because the almost payment of the terrorists is non-sum now. Many money is contributed to the terrorists by the citizens or government. Also, the individual issue. This is selfish and this makes the more serious situation around the world. So, we have to propose this proposal. Sorry.'}, {27: \"Firstly, I will refute my previous speaker. The previous speaker told you that the payment of ransom is small and it does not affect the revenue of the terrorists and it does not cause a terrible situation for the terrorists. But this is not true. Because if one person is caught by the terrorists, the government or someone who wants to save that person has to pay 1 billion yen or 10 billion yen or some very expensive money. So that's why, please imagine, the tank or rocket is about 1 billion yen or 10 million yen or so on. So, that's why, by one person, only one person, the terrorists can buy many weapons. And by buying only that weapon, many people are threatened by the situation. So, there is a possibility to be killed by the rocket or tank or so, a very serious, a very powerful weapon.\"}, {28: 'So, if around the world, the many, sorry, the many victims and many people pay so much money to the terrorists, terrorist groups, as my partner told you that the terrorists can get much money and can have possibility to expand their power and after that, around the world, there are many incidents by terrorists and many people will suffer from the threat by the terrorists. It is very harmful for the around the world, many people. Sorry, let me move on our argument.'}, {29: 'I will explain the, by payment of ransom, the terrorists will abuse that right to get the money, much money, and the harmful of the situation. One argument. And secondly, I will comparison the both side. Firstly, I will explain the payment of ransom is harmful. Okay.'}, {30: '<POI> So, do you think that the bomb which killed thousands of people are 2 billion yen?'}, {31: 'If the terrorists are followed by the government or police, it is harmful for terrorists itself. So, no. The payment of ransom should be expensive because also terrorists have risk to be watched by the government or catched by the government because of the interaction with the terrorists and government. So, terrorists have risk, so terrorists can need much money. So, in order to save the victims, the citizens have to pay much money, something billion yen.'}, {32: \"Firstly, I will explain the status quo, the payment of ransom. The payment of ransom is very expensive, so that's why the terrorists, as I told you in my presentation, there are many weapons in the terrorist group and they can kill other people. Please imagine, if one country, one person pay much money, rich man, and pay much money for terrorists, and terrorists have much money, and even if the people can only save that victim, important for me, many people around the world will be, other countries, other innocent citizens will be suffered from the threat by the terrorists. It is very harmful for other people or many citizens. So, that's why we have to save that many people.\"}, {33: 'Secondly, I will comparison the both sides. After taking this plan, in the opposition paradigm, there are many incidents than now, and many people were killed by the terrorists, so we have to save that person by taking this proposal. Thank you very much.'}], 'opp2': [{34: \"Okay, ladies and gentlemen, we believe that today, all of the points, uh, today, the government side has not pointed out any justification in which why we can actually criminalize these people who actually want to just say solely want to save their families, their loved ones' lives. So we believe, so, uh, I'd like to point out, uh, why under the criminal justice system, this is not justifiable in my speech later on.\"}, {35: \"So, uh, we are here to oppose. So, uh, basically in my speech, I'd like to do, uh, three things. Firstly, I'd like to talk about, so why under the criminal justice system, why this is not justifiable. So we have, uh, brought the criteria here. And, um, secondly, I'd like to talk about how in the practical terms, this is, this plan is actually going to be counterproductive and, uh, this will actually, uh, kill many more innocent people under their paradigm. And thirdly, I'd like to talk about how, uh, how it is the state's responsibility and, uh, it is only one form of self-defense in this term.\"}, {36: 'So, uh, so yes, but before that, some couple of rebuttals to their points. Um, so firstly, about their point about, um, how we are going to, like, censor, uh, uh, security cameras and, like, hacking systems to these families or something. Well, we are very, uh, so we do not understand this vulnerability at all, right? How are these people going to be safe after doing this? And why is this going to be justified to continue censoring these, like, innocent people?'}, {37: 'And secondly, uh, they talked about the long-term benefit, how we can stop the source and it will, um, somehow, uh, lead to saving people. But they have not given any mechanism to this point, right? '}, {38: 'So how will the stopping of payment of ransom actually save people, which I will talk about later on because the source of, source is not only ransom and there are many other criteria and factors that actually is empowering these terrorist groups.'}, {39: \"And, um, we believe that actually, uh, when we, uh, this causes, this causes detrimental harm because when we stop these families from being able to pay this ransom, what will actually happen is that these families will not forget this fact that they were not allowed to, uh, that they, that if they, like, pay this ransom, they are going to be criminalized. They will feel like they will be betrayed by the state. So it's actually rather just empowering the terrorists if they see that the state is like conflicting within themselves. So this is actually causes much more harm.\"}, {40: 'And so, uh, and also, uh, there is like other ways, like we can, uh, we can at first like pay and save this one individual that will, that will definitely be, uh, that will definitely be, uh, their lives will be taken away under their paradigm. And later on we can combat the terrorists in other ways, which is, uh, which is much more going to be important and collect the money afterwards. So, uh, we should leave this choice to be able to, uh, pay this ransom. So I will talk about that later on. So moving on to this, just, uh, to why this is, uh, to my point.'}, {41: 'So firstly, why this is not, why this plan is not justifiable under the criminal justice system. So in the criminal justice system, firstly, we need to see whether this act is illegal or not, right? So, um, in the case of the payment of ransom, it does not connect to the direct harm to somebody else. So like maybe the harm is like, no, maybe the harm is like, uh, might occur, but maybe it might not. '}, {42: 'So in this criminal justice system, the punishment has to be objective. But in this case, it is extremely subjective because like even now there are still cases where, uh, people, uh, where like ransom is not paid. However, these terrorist groups still exist, right? So like for example, in the cases of ISIS, they export, uh, oil and they, uh, collect the money from that. And rather these kinds of things are, uh, these kinds of things are the factors and resources for these terrorist groups. So just by, uh, just by stopping this payment of ransom does not lead to, uh, the benefits that they want to talk about. So we have to, uh, combat in other ways.'}, {43: \"And secondly, uh, we have to, uh, consider the responsibility of these individuals. So, uh, if these, uh, so the people who paid the ransom has no intention to harm others, right? They solely want to save their families and their loved ones. So we cannot, um, just simply say that, uh, they are not, they are going to be criminalized just because they want to save these people. And it is not justifiable because it means that the, uh, criminalizing means that the state is actually going to ignore these people's, uh, these people's lifestyle. It's definitely going to be taken away under their paradigm.\"}, {44: \"So moving on to this practical benefits, uh, we believe that, um, uh, taking this plan is completely counterproductive and will cause many more innocent people's lives to be deprived. So, uh, there's going to be two consequences that can be, uh, that can be thought. \"}, {45: \"So firstly, uh, when we criminalize it, uh, uh, what might happen is that the families are going to, um, are going to negotiate with the criminal individually and secretly. So rather taking this plan is just going to push this, uh, push this payment of ransom underground. And, uh, if so, we believe it's a comparative better than the status quo when the state, when the state can actually intervene and the state can also, like, uh, negotiate instead of, uh, instead of making these families do it. \"}, {46: 'And when the families do it individually and secretly, they will have to pay a huge amount of money. And rather this means that, uh, like huge, much more big, huger and bigger amounts of money. So rather this is going to empower terrorists, right? '}, {47: \"And secondly, uh, when, uh, uh, we should leave, like, a ground for these, uh, uh, to, like, negotiate and pay. Because when, like, we cannot pay making ransom, it's going to be difficult. These terrorists are not going to be satisfied, right? They are going to be desperate to get more money. So what will happen is that they are going to be kidnapped more people and they are going to kill more people. And for example, they will take, take over the states within that, uh, territory of their terrorist groups and they are going to kill innocent people and they are going to, like, uh, take over the, uh, banks and et cetera to get even more money and to empower themselves. And so we, we believe that this is actually going to kill many, many more innocent people under their power then.\"}, {48: \"So thirdly, uh, we believe that, um, uh, this, as, as we have already told you, uh, it is the state's responsibility that the state cannot seek and protect the safety of its citizens, right? So, uh, it is not justifiable to criminalize the act of saving someone as we have already told you. So we believe that the government has to do its best to save these people and completely ignoring them and completely just pushing them that saying that it is, uh, it is something, it is going to be criminalized is, uh, uh, is very detrimental, uh, is very harmful because, uh, it means that the state is going to actively kill someone, right?\"}, {49: \"Uh, they are going to ignore this one definite victim that is going to actually happen. So like, for example, even in today, like when the police is not there, others can try to save it, save someone even if, uh, even if, even if, even if it causes harms to others. So in this case, it is the state's responsibility to, uh, uh, to be able to leave a choice, at least leave a choice for these people to pay the ransom and, and save this one, uh, life that is definitely going to be deprived under their paradigm.\"}, {50: 'So, uh, so, uh, concluding my speech, when you consider how many lives are actually going to be taken away, how many innocent people are actually going to be killed, uh, the opposition side win about the uncertain benefits coming from the, uh, government side.'}], 'opp3': [{51: \"The overall foundation coming from the government's guidelines are, in order to save the mass population, they are going to sacrifice the financial. But if it is possible, then we think it is better. \"}, {52: 'However, we think that because of lack of mechanism, how they are going to de-empower the terrorists is unclear. And also, that it does not believe that they actually the weaken the terrorists. And also, perfectly to prevent terrorism, we oppose this proposal.'}, {53: 'Because we think that by taking this proposal, we are going to sacrifice that individual who are not responsible for being captured by terrorists. And also, because the government has a responsibility to save these kind of individuals. '}, {54: \"So, firstly, I'm going to point out why this government side does not have any work ability to prevent terrorism. And secondly, given that, what state should do and what is the responsibility of the state and the government.\"}, {55: \"Firstly, the government has constantly told you, by taking this proposal, they are going to prevent, they are going to protect civilians. However, we don't think that it is the case. And lastly, as I and my partner have constantly told you, because the income of terrorists does not necessarily come from the ransom, it is not genuine. Because they have any way to gain the financial power, such as the exploitation, and so on.\"}, {56: \"In that case, if you want to do terrorism, what you need is a bomb, a gun, and so on. We don't think that they need to gain thousands of money in order to get that gun or bomb, ladies and gentlemen. We think that in those cases, we cannot understand why in their paradigm they can completely protect the citizens, and also why they can justify the sacrifice of citizens, ladies and gentlemen.\"}, {57: 'So, secondly, what state should do? As I said in the past speeches, though the auditing was different, there are people who are not responsible for their being captured. For example, spies, soldiers, journalists, and so on. These kind of people do not arbitrarily go to these kind of areas to be captured by terrorists, ladies and gentlemen. Because these kind of people are sometimes forced to go to these kind of dangerous areas, like government, companies, and so on.'}, {58: \"Because we think that it is understandable that those people who are going to be forced to go to these kind of areas, and also selfishly being captured, it can be understandable, but there is no mention of that one. We think that in that case, those people were not fully responsible for their own act. They believed that the government had a responsibility to protect its citizens, and also there's no justification to prohibit to save these kind of people by the family or state, ladies and gentlemen. So because we believe that the government feels its responsibility to protect citizens, to ensure the safety of citizens, we believe that the government should make an effort to protect citizens.\"}, {59: 'And also, as the opposition side constantly told you, because the reason why we have to prosecute the terrorists is to save its citizens. However, this government is going to sacrifice citizens in order to weaken the terrorists, ladies and gentlemen. Even if in that paradigm, the terrorism will constantly occur, and also they have not abandoned the protection of citizens, and also, however, in the paradigm of the opposition side, we are going to protect citizens, however, the situation does not slightly change.'}, {60: \"As my partner has told you, because after taking this proposal, because the family wants to protect, wants to save their members of the family, they are going to do the negotiation with every secrecy. That is to say that the payment of ransom will not be possible, and also in that scenario, it is more harmful because we believe that there's no government protection in that negotiation, and also they cannot supervise the negotiation. In those cases, because we are against terrorism.\"}], 'prop3': [{61: 'Thank you, Mr. Speaker, ladies and gentlemen in this house. We want to cut the source and we want to protect the warse accidents such as more 100,000 or 1 billion people are killed by the gas or bombs in advance.'}, {62: \"So and where after taking this plan, our government clearly showed that the citizen and terrorists, the government's stance that ransom is guilty. Terrorist group's action won't escalate. As usual, government remain to give money to terrorists. They request a yen and yen. And we want to stop this occasion and this motion is uniquely and only way to cut source of this case. \"}, {63: \"OK. Let's move on my summarize. But I want to repeat my previous speaker. I have three refutations. Firstly, she said family cannot save because they cannot give ransom to terrorists. So it is pity. But it is not true. But as I mentioned in my constructive speech, but even if the ransom, they are family in the ransom, in the major case, the victim, the child will be killed by the terrorist. So even if they cannot save, in most case, they are pity. So we stop this. It is no problem. \"}, {64: \"And secondly, she said we don't save the justification, so I want to justificate now. Namsung is equal to give money to terrorists. It is equal to support terrorist act. It is very guilty. Even if subjective, but support is very guilty. So it is in the criminal justice system, they should be criminalized, right? Yes. OK. \"}, {65: 'And thirdly, they negotiate secretly. So this is a good point. But we believe that police is not so, so police can intervene also secretly not to know from terrorists. They do more secretly and they can, police is good, is specialist. So only families or not specialist are nervous people, negotiate secretly is more than our police can do well than our individual. So we think thanks to police, it is effectively solve the problem. '}, {66: \"OK. I want to summarize this debate. I have two crash points. Firstly, which plan can prevent worst case accidents such as one million people died. This plan, as I told you that in confused situation, people cannot think safely deeply and they do easily to give money to terrorists. So it is not saving victims and our opposition says countermeasures but it is no mechanism and they are irrational in public place. But I don't know, I don't know the mechanism. So our side is sperior.\"}, {67: \"And secondly, which is better, protect victims and the large number of people. Opposition side strongly talk about one people's right, one people's right. But our side mentions again and again the major majority people's right. So which is more important to protect? The answer is surely the more people. So from that reason, our side's theory to opposition side. Thank you for listening.\"}]}\n"
     ]
    }
   ],
   "source": [
    "# 6~8スピーチを1つのjsonに統合\n",
    "import json\n",
    "import re\n",
    "\n",
    "output = {}\n",
    "\n",
    "with open(\"../corpus/debate_scripts.json\") as f:\n",
    "    data = json.load(f)\n",
    "    for round in data:\n",
    "        title = re.sub(r'[\\/:*?\"<>|]', '', round[\"source\"][\"title\"])  # Remove invalid filename characters\n",
    "        \n",
    "        output = {}\n",
    "        i = 0\n",
    "        speech_num = len(round[\"speeches\"])\n",
    "        for speech_id, speech in enumerate(round[\"speeches\"]):\n",
    "            side = \"prop\" if speech_id % 2 == 0 else \"opp\" #原則\n",
    "            if speech_id+1 == speech_num-1: #例外\n",
    "                side=\"opp\"\n",
    "            elif speech_id+1 == speech_num:\n",
    "                side=\"prop\"\n",
    "            \n",
    "            tmp_segment_list = []\n",
    "            adus = speech[\"ADUs\"]\n",
    "            for adu_id, adu in enumerate(adus):\n",
    "                tmp_segment_dict = {}\n",
    "                tmp_segment_dict[i] = adu[\"transcript\"]\n",
    "                tmp_segment_list.append(tmp_segment_dict)\n",
    "                i+=1\n",
    "            output[f\"{side}{int(speech_id/2)+1}\"] = tmp_segment_list\n",
    "            # with open (f\"dummy_timestamps/{title}.json\", \"w\") as out_f:\n",
    "            #     json.dump(tmp_whisper_object, out_f)\n",
    "        break\n",
    "\n",
    "    print(output)"
   ]
  },
  {
   "cell_type": "code",
   "execution_count": 32,
   "metadata": {},
   "outputs": [],
   "source": [
    "#load\n",
    "from dotenv import load_dotenv\n",
    "from openai import AsyncOpenAI\n",
    "import os\n",
    "\n",
    "load_dotenv()\n",
    "client = AsyncOpenAI()"
   ]
  },
  {
   "cell_type": "code",
   "execution_count": 34,
   "metadata": {},
   "outputs": [
    {
     "name": "stdout",
     "output_type": "stream",
     "text": [
      "This is a detailed record of a debate on the motion of criminalizing the payment of ransom to terrorists. The discussion involves two sides — the proposition (prop) and the opposition (opp).\n",
      "\n",
      "### Proposition (Prop)\n",
      "\n",
      "#### Main Arguments:\n",
      "1. **Moral and Ethical Justifications**:\n",
      "   - Prop1 (0, 1): Protection of innocent people. Payment of ransom finances terrorist activities. Even when ransoms are paid, victims often get killed.\n",
      "   - Prop1 (7, 10): Criminalizing ransom payments forces decisions to consult specialists/police which can reduce irrational decisions made under emotional duress.\n",
      "\n",
      "2. **Long-term Benefits**:\n",
      "   - Prop1 (2, 4, 6, 8): Preventing terrorists from acquiring financial resources will reduce their capacity to cause harm in the long-term.\n",
      "   - Prop1 (9): Over the long-term, capturing the source of terrorist funding will save more lives.\n",
      "   - Prop3 (61, 62): Preventing money flow to terrorists helps in reducing large scale severe terrorist activities.\n",
      "\n",
      "3. **Comparison and Response**:\n",
      "   - Prop2 (27, 32): Focus on how significant ransom amounts contribute to terrorist activities.\n",
      "   - Prop3 (63, 65): Addresses rebuttals by emphasizing police capabilities and the actual ineffectiveness of ransom in saving victims.\n",
      "\n",
      "### Opposition (Opp)\n",
      "\n",
      "#### Main Arguments:\n",
      "1. **Moral and Ethical Arguments**:\n",
      "   - Opp1 (11, 21, 22): Criticizes the ethicality of criminalizing acts by individuals trying to save family members, highlighting that terrorist funding isn’t solely from ransom.\n",
      "   - Opp2 (34, 43): Payment of ransom is a personal decision to save loved ones and should not be criminalized.\n",
      "\n",
      "2. **Practical Concerns**:\n",
      "   - Opp1 (15, 16): Terrorists receive funding from multiple sources, not only ransom.\n",
      "   - Opp2 (45, 47): Criminalizing ransom payments pushes negotiations underground and may lead to higher ransom amounts. This also could lead to more kidnapping.\n",
      "   - Opp3 (56): Terrorists obtain money from other sources (e.g., exploitation), making it inefficient to stop terrorism solely by criminalizing ransom payments.\n",
      "\n",
      "3. **State Responsibility**:\n",
      "   - Opp1 (14, 19): The government's duty to protect citizens can't justify criminalizing attempts to rescue loved ones.\n",
      "   - Opp2 (48): Governments must ensure the protection of citizens rather than criminalize their protective actions.\n",
      "   - Opp3 (57, 59): Governments fail their responsibility to protect citizens if they allow individuals to be sacrificed for the broader benefit.\n",
      "\n",
      "### Structure Analysis\n",
      "\n",
      "#### Proposition:\n",
      "1. **Introduction and Definition**: Prop1 (3) sets the boundaries and definition of the motion.\n",
      "2. **Claim Development**: Arguments develop progressively from moral justification to practical benefits and response to opposition criticisms.\n",
      "3. **Consistency and Reiteration**: Prop2 and Prop3 consistently reiterate points from Prop1 while adding depth to arguments, directly responding to opposition.\n",
      "\n",
      "#### Opposition:\n",
      "1. **Rebuttal-focused**: Critically dissects the proposition’s points and focuses on refuting specific claims.\n",
      "2. **Ethical and Practical Emphasis**: Strong emphasis on ethical considerations (individual rights vs mass safety) and practical ineffectiveness.\n",
      "3. **State Duty Highlighting**: Repeated stress on the role and duty of the state to protect its citizens.\n",
      "\n",
      "In conclusion, this debate presents a thorough discussion on whether criminalizing ransom payments to terrorists can enhance overall safety or pose significant ethical and practical concerns. The proposition foregrounds long-term benefits and a strategic stance against terrorism, while the opposition foregrounds immediate ethical implications and practical consequences.\n"
     ]
    }
   ],
   "source": [
    "user_prompt = f\"please tell me about the following list: {output}\"\n",
    "\n",
    "response = await client.chat.completions.create(\n",
    "    model=\"gpt-4o\",\n",
    "    messages=[\n",
    "        {\"role\": \"system\", \"content\": \"You are a judge in the competitive debate and have to objectively analyze structures of arguments\"},\n",
    "        {\"role\": \"user\", \"content\": user_prompt}\n",
    "    ]\n",
    ")\n",
    "\n",
    "print(response.choices[0].message.content)"
   ]
  },
  {
   "cell_type": "code",
   "execution_count": 35,
   "metadata": {},
   "outputs": [
    {
     "name": "stdout",
     "output_type": "stream",
     "text": [
      "Here is the list of tuples of rebuttals in the given debate transcript:\n",
      "\n",
      "- (27, 13)\n",
      "- (34, 27)\n",
      "- (36, 8)\n",
      "- (37, 7)\n",
      "- (38, 13)\n",
      "- (39, 6)\n",
      "- (45, 7)\n",
      "- (60, 27)\n",
      "- (63, 1)\n",
      "- (64, 34)\n",
      "- (65, 23)\n",
      "\n",
      "These tuples represent cases where one speaker is directly addressing and countering a point made by another specific speaker.\n"
     ]
    }
   ],
   "source": [
    "user_prompt = f\"please return the list of tuples of rebuttals i.e., (id of rebuttal source, id of rebuttal target) about the following debate: {output}\"\n",
    "\n",
    "response = await client.chat.completions.create(\n",
    "    model=\"gpt-4o\",\n",
    "    messages=[\n",
    "        {\"role\": \"system\", \"content\": \"You are a judge in the competitive debate and have to objectively analyze structures of arguments\"},\n",
    "        {\"role\": \"user\", \"content\": user_prompt}\n",
    "    ]\n",
    ")\n",
    "\n",
    "print(response.choices[0].message.content)"
   ]
  },
  {
   "cell_type": "code",
   "execution_count": 37,
   "metadata": {},
   "outputs": [
    {
     "name": "stdout",
     "output_type": "stream",
     "text": [
      "このデータの解釈における食い違いを評価するために、一つ一つのタプルに対して、どのようにして違いが生じたのかを見ていきましょう。また、可能な理由を考察します。\n",
      "\n",
      "1. **(13, 1)**\n",
      "   - **人間のアノテーション**: これは「terrorist groups の資金源がランサムでない場合がある」(13)が「prop1 でのランサムが唯一の資金源であるという主張」(1)に対しての反論とみなした。\n",
      "   - **私の解釈**: これは見落としの可能性があります。この反論は明確に見えます。\n",
      "\n",
      "2. **(13, 6)**\n",
      "   - **人間のアノテーション**: これは「terrorist groups の資金源がランサムでない場合がある」(13)が「terrorists が武器を購入する資金としてランサムを使う」(6)に対しての反論とみなした。\n",
      "   - **私の解釈**: 同様に見落としか、反論の関連性を見逃した可能性。\n",
      "\n",
      "3. **(16, 1)**\n",
      "   - **人間のアノテーション**: 同じ理由で、「terrorist groups の資金源はランサムに限らない」との反論。\n",
      "   - **私の解釈**: 同上、見落としの可能性。\n",
      "\n",
      "4. **(24, 7)**\n",
      "   - **人間のアノテーション**: 「人々がランサムを支払わなくなると、テロリストは他の方法で資金を得る」などの反論。\n",
      "   - **私の解釈**: ここも見落としかもしれませんが、7が明確に話されていない可能性。\n",
      "\n",
      "5. **(27, 13)**\n",
      "   - **合致**。\n",
      "\n",
      "6. **(30, 27)**\n",
      "   - **人間のアノテーション**: 質問として、明らかに27に対して関連。\n",
      "   - **私の解釈**: 形式的な質問を反論と見做すかどうかの違い。\n",
      "\n",
      "7. **(31, 30)**\n",
      "   - **人間のアノテーション**: 質問に対しての回答。\n",
      "   - **私の解釈**: 形式的な質問回答の認識の違い。\n",
      "\n",
      "8. **(37, 28)**\n",
      "   - **人間のアノテーション**: 長期的にはランサムは効果的でない、28の主張に対して。\n",
      "   - **私の解釈**: 特定の反論として見逃した可能性。\n",
      "\n",
      "9. **(38, 28)**\n",
      "   - **人間のアノテーション**: 同上。\n",
      "   - **私の解釈**: 同じ理由。\n",
      "\n",
      "10. **(45, 7)**\n",
      "    - **合致**。\n",
      "\n",
      "11. **(55, 1)**\n",
      "    - **人間のアノテーション**: テロリストの資金源はランサムだけでないとの反論。\n",
      "    - **私の解釈**: 見逃した可能性。\n",
      "\n",
      "12. **(56, 27)**\n",
      "    - **人間のアノテーション**: ランサムがテロリストの資金源であるという主張に対して。\n",
      "    - **私の解釈**: 反論の識別の違い。\n",
      "\n",
      "13. **(59, 26)**\n",
      "    - **人間のアノテーション**: おそらく資金源の多様性に関する議論。\n",
      "    - **私の解釈**: 反論の明確さが問題かも。\n",
      "\n",
      "14. **(59, 33)**\n",
      "    - **人間のアノテーション**: 同じくランサムの制限について。\n",
      "    - **私の解釈**: 反論の識別の違い。\n",
      "\n",
      "15. **(60, 7)**\n",
      "    - **合致**。\n",
      "\n",
      "16. **(63, 20)**\n",
      "    - **人間のアノテーション**: ランサムが動機付けになるという主張に対する反論。\n",
      "    - **私の解釈**: 見逃しの可能性。\n",
      "\n",
      "17. **(63, 49)**\n",
      "    - **人間のアノテーション**: 特定の救済策の選択に関する反論。\n",
      "    - **私の解釈**: 同上。\n",
      "\n",
      "18. **(64, 41)**\n",
      "    - **人間のアノテーション**: 犯罪システムにおける正当性に関する議論。\n",
      "    - **私の解釈**: 見逃しか、反論の認識の違い。\n",
      "\n",
      "19. **(64, 58)**\n",
      "    - **人間のアノテーション**: 犯罪化の正当性についての議論。\n",
      "    - **私の解釈**: 同上。\n",
      "\n",
      "20. **(65, 45)**\n",
      "    - **人間のアノテーション**: 密な交渉のスーパービジョンについて議論。\n",
      "    - **私の解釈**: 特定の反論として見逃し。\n",
      "\n",
      "21. **(65, 60)**\n",
      "    - **人間のアノテーション**: 同じく密な交渉について議論。\n",
      "    - **私の解釈**: 同じく見逃し。\n",
      "\n",
      "22. **(66, 15)**\n",
      "    - **人間のアノテーション**: 犠牲の正当性に関する総括。\n",
      "    - **私の解釈**: 特定の反論として見逃し。\n",
      "\n",
      "23. **(67, 59)**\n",
      "    - **人間のアノテーション**: 多くの人々を守るための主張。\n",
      "    - **私の解釈**: 反論というよりもまとめの印象。\n",
      "\n",
      "これらの違いのいくつかは見逃しや解釈の違いに起因しています。特に質問と回答、具体的な反論や議論の連携の明確さに関する解釈が異なることが主な原因として考えられます。\n"
     ]
    }
   ],
   "source": [
    "user_prompt = f\"please return the list of tuples of rebuttals i.e., (id of rebuttal source, id of rebuttal target) about the following debate: {output}\"\n",
    "\n",
    "response = await client.chat.completions.create(\n",
    "    model=\"gpt-4o\",\n",
    "    messages=[\n",
    "        {\"role\": \"system\", \"content\": \"You are a judge in the competitive debate and have to objectively analyze structures of arguments\"},\n",
    "        {\"role\": \"user\", \"content\": user_prompt},\n",
    "        {\"role\": \"system\", \"content\": \"Here is the list of tuples of rebuttals in the given debate transcript: (27, 13), (34, 27), (36, 8), (37, 7), (38, 13), (39, 6), (45, 7), (60, 27), (63, 1), (64, 34), (65, 23). These tuples represent cases where one speaker is directly addressing and countering a point made by another specific speaker.\"},\n",
    "        {\"role\": \"user\", \"content\": \"随分と少ないな。人間によるアノテーションでは(13, 1), (13, 6), (16, 1), (24, 7), (27, 13), (30, 27), (31, 30), (37, 28), (38, 28), (45, 7), (55, 1), (56, 27), (59, 26), (59, 33), (60, 7), (63, 20), (63, 49), (64, 41), (64, 58), (65, 45), (65, 60), (66, 15), (67, 59)となっていたんだが、どうして違いがあると思う？食い違ったタプル一つ一つに関して、君の解釈と解釈が異なった理由と考えられることを教えてくれ\"}\n",
    "    ]\n",
    ")\n",
    "\n",
    "print(response.choices[0].message.content)"
   ]
  },
  {
   "cell_type": "code",
   "execution_count": 46,
   "metadata": {},
   "outputs": [
    {
     "name": "stdout",
     "output_type": "stream",
     "text": [
      "The debate arguments address the issue of ransom payment to terrorists, with the proposition side advocating for criminalizing ransom payments to stop the financing of terrorism, while the opposition focuses on the rights of individuals to protect their loved ones and the potentially negative consequences of criminalizing ransom payments.\n",
      "\n",
      "Here are the list of tuples of rebuttals, with (id of rebuttal source, id of rebuttal target):\n",
      "\n",
      "1. (27, 13): Rebuttal from prop2 claiming the opposition understates the significance of the ransom's financial impact on terrorists.\n",
      "2. (33, 16): Rebuttal from prop2 to opp1’s emphasis on terrorists having multiple sources of income besides ransom, arguing that ransom is still a significant issue.\n",
      "3. (36, 3): Rebuttal from opp2 questioning the effectiveness and justification of the proposition's plan on police use of technology and surveillance.\n",
      "4. (37, 8): Rebutal from opp2 to prop1’s claim about long-term benefits of stopping ransom, questioning the mechanism by which this would save lives.\n",
      "5. (41, 3): Rebuttal from opp2 challenging the proposition’s rationale for criminalizing ransom under a criminal justice perspective.\n",
      "6. (53, 61): Rebuttal from opp3 responding to prop3's arguments on government responsibility and effectiveness of deterrent strategies.\n",
      "7. (57, 61): Rebutal from opp3 to prop3's points on governmental responsibilities toward citizens caught by terrorists.\n",
      "8. (63, 41): Rebuttal from prop3 to opposition's argument about the lack of justification in the proposition’s plan.\n",
      "9. (66, 47): Rebutal from prop3 targeting opp2’s argument that blocking ransom payments will lead to more harm and no effective prevention of terrorist activities.\n",
      "\n",
      "These rebuttals indicate a robust interaction between the teams, focusing on the consequences and ethical considerations of criminalizing ransom payments, the effectiveness of government measures, and the immediate practical implications on individuals and broader societal safety.\n"
     ]
    }
   ],
   "source": [
    "user_prompt = f\"please return the list of tuples of rebuttals i.e., (id of rebuttal source, id of rebuttal target) about the following debate: {output}\"\n",
    "\n",
    "response = await client.chat.completions.create(\n",
    "    model=\"gpt-4-turbo\",\n",
    "    messages=[\n",
    "        {\"role\": \"system\", \"content\": \"You are a judge in the competitive debate and have to objectively analyze structures of arguments\"},\n",
    "        {\"role\": \"user\", \"content\": user_prompt}\n",
    "    ]\n",
    ")\n",
    "\n",
    "print(response.choices[0].message.content)"
   ]
  },
  {
   "cell_type": "code",
   "execution_count": 39,
   "metadata": {},
   "outputs": [
    {
     "name": "stdout",
     "output_type": "stream",
     "text": [
      "Based on the given debate, here are the tuples of rebuttals, where (id of rebuttal source, id of rebuttal target):\n",
      "\n",
      "1. (27, 13)\n",
      "2. (34, 10)\n",
      "3. (36, 8)\n",
      "4. (36, 3)\n",
      "5. (37, 8)\n",
      "6. (39, 7)\n",
      "7. (41, 10)\n",
      "8. (43, 10)\n",
      "9. (44, 10)\n",
      "10. (45, 7)\n",
      "11. (46, 6)\n",
      "12. (47, 8)\n",
      "13. (62, 7)\n",
      "14. (63, 20)\n",
      "15. (64, 23)\n",
      "16. (65, 39)\n",
      "\n",
      "These tuples indicate the ID of the rebuttal source (the statement making the rebuttal) and the ID of the rebuttal target (the statement being rebutted).\n"
     ]
    }
   ],
   "source": [
    "print(response.choices[0].message.content)"
   ]
  },
  {
   "cell_type": "code",
   "execution_count": 41,
   "metadata": {},
   "outputs": [
    {
     "name": "stdout",
     "output_type": "stream",
     "text": [
      "```python\n",
      "rebuttals = [\n",
      "    (27, 13),\n",
      "    (34, 0),\n",
      "    (36, 8),\n",
      "    (36, 7),\n",
      "    (39, 7),\n",
      "    (40, 8),\n",
      "    (41, 7),\n",
      "    (42, 7),\n",
      "    (43, 8),\n",
      "    (44, 7),\n",
      "    (49, 7),\n",
      "    (50, 7),\n",
      "    (53, 1),\n",
      "    (57, 0)\n",
      "]\n",
      "```\n"
     ]
    }
   ],
   "source": [
    "print(response.choices[0].message.content)"
   ]
  },
  {
   "cell_type": "code",
   "execution_count": 43,
   "metadata": {},
   "outputs": [
    {
     "name": "stdout",
     "output_type": "stream",
     "text": [
      "Sure, here is the list of tuples of rebuttals, where (id of rebuttal source, id of rebuttal target):\n",
      "\n",
      "1. (27, 11) - Prop2 refutes Opp1's point about the insignificance of ransom payments.\n",
      "2. (36, 8) - Opp2 refutes Prop1's point about the effectiveness of police and technology in handling terrorism.\n",
      "3. (37, 7) - Opp2 refutes Prop1's assertion that criminalizing ransom payments will have long-term benefits in reducing terrorism.\n",
      "4. (39, 7) - Opp2 contends that criminalizing ransom payments will lead to families feeling betrayed by the state.\n",
      "5. (45, 7) - Opp2 argues that criminalizing ransom payments will push negotiations underground, making them harder to control.\n",
      "6. (46, 7) - Opp2 states that secret negotiations by families will lead to higher ransom payments, thus empowering terrorists.\n",
      "7. (63, 23) - Prop3 refutes Opp2's argument about the inability to save families due to criminalizing ransom payments.\n",
      "8. (64, 23) - Prop3 argues for the justification of criminalizing ransom payments within the criminal justice system.\n",
      "9. (65, 23) - Prop3 responds to Opp2's concerns about secret negotiations by asserting that police interventions will be more effective.\n",
      "\n",
      "These rebuttals indicate direct responses to specific arguments presented by the opposing side in the debate.\n"
     ]
    }
   ],
   "source": [
    "print(response.choices[0].message.content)"
   ]
  },
  {
   "cell_type": "code",
   "execution_count": 45,
   "metadata": {},
   "outputs": [
    {
     "name": "stdout",
     "output_type": "stream",
     "text": [
      "To provide an analysis of the rebuttals within this debate, we need to identify points where speakers directly challenge or refute arguments made by speakers from the opposing sides. Here's a list of identified tuples (rebuttals), which indicate the source speaker who made the rebuttal and the target speaker whose argument was rebutted:\n",
      "\n",
      "1. (13, 5) - Speaker 13 questions the government side's focus on the funding of terrorism purely through ransom, arguing that terrorists also have other significant sources of income, such as oil fields, which contradicts the government's assumption expressed by speaker 5.\n",
      "   \n",
      "2. (14, 7) - Speaker 14 criticizes the government's plan (outlined by speaker 7) for its unrealistic police surveillance expectations and its potential infringement on civil liberties.\n",
      "\n",
      "3. (16, 6) - Speaker 16 counters speaker 6’s argument about the significant role of ransom in financing terrorism by providing examples of other substantial fundraising methods used by terrorists.\n",
      "\n",
      "4. (20, 10) - Speaker 20 challenges speaker 10 by asserting the effectiveness of ransom payments in securing the release of hostages, contradicting the government side's claim that ransom payments do not result in saving lives.\n",
      "\n",
      "5. (22, 9) - Speaker 22 provides counterpoints to speaker 9’s argument that stopping ransom payments will effectively save more people, by showing that terrorism and kidnapping have broader motivations and outcomes that ransom payments alone will not prevent.\n",
      "\n",
      "6. (27, 5) - Speaker 27 refutes an earlier government claim from speaker 5 that the effect of ransom payments on terrorist funding is negligible, arguing that even a single large ransom payment can significantly empower terrorists.\n",
      "\n",
      "7. (34, 5) - Speaker 34 argues against the criminalization of ransom payment proposed by speaker 5, questioning the justice and effectiveness of such a law.\n",
      "\n",
      "8. (36, 8) - Speaker 36 critiques speaker 8’s support for using surveillance technology in handling ransom situations, questioning both the practicality and ethical implications.\n",
      "\n",
      "9. (37, 2) - Speaker 37 directly addresses speaker 2’s assertion about long-term benefits of halting ransom payments, demanding more concrete mechanisms to support these claims.\n",
      "\n",
      "10. (44, 10) - Speaker 44 attacks the practical outcome of policies proposed by speaker 10, arguing it would result in more harm than good in real-world scenarios.\n",
      "\n",
      "11. (45, 7) - Speaker 45 argues against speaker 7’s proposal to criminalize ransom payments by showing potential negative outcomes that could drive those processes underground, resulting in less oversight and potentially higher ransom demands.\n",
      "\n",
      "12. (60, 51) - Speaker 60 replies to speaker 51's tactic, undermining the government's purported effectiveness in reducing terrorism through financial strangulation of terrorist resources.\n",
      "\n",
      "These rebuttal pairings outline where counterarguments directly address and attempt to dismantle the claims made by opponents, illustrating the back-and-forth dynamism typical in debates, providing insights into the critical points of contention around the central issue of criminalizing ransom payments to terrorists.\n"
     ]
    }
   ],
   "source": [
    "print(response.choices[0].message.content) #4turbo"
   ]
  },
  {
   "cell_type": "code",
   "execution_count": 47,
   "metadata": {},
   "outputs": [
    {
     "name": "stdout",
     "output_type": "stream",
     "text": [
      "The debate arguments address the issue of ransom payment to terrorists, with the proposition side advocating for criminalizing ransom payments to stop the financing of terrorism, while the opposition focuses on the rights of individuals to protect their loved ones and the potentially negative consequences of criminalizing ransom payments.\n",
      "\n",
      "Here are the list of tuples of rebuttals, with (id of rebuttal source, id of rebuttal target):\n",
      "\n",
      "1. (27, 13): Rebuttal from prop2 claiming the opposition understates the significance of the ransom's financial impact on terrorists.\n",
      "2. (33, 16): Rebuttal from prop2 to opp1’s emphasis on terrorists having multiple sources of income besides ransom, arguing that ransom is still a significant issue.\n",
      "3. (36, 3): Rebuttal from opp2 questioning the effectiveness and justification of the proposition's plan on police use of technology and surveillance.\n",
      "4. (37, 8): Rebutal from opp2 to prop1’s claim about long-term benefits of stopping ransom, questioning the mechanism by which this would save lives.\n",
      "5. (41, 3): Rebuttal from opp2 challenging the proposition’s rationale for criminalizing ransom under a criminal justice perspective.\n",
      "6. (53, 61): Rebuttal from opp3 responding to prop3's arguments on government responsibility and effectiveness of deterrent strategies.\n",
      "7. (57, 61): Rebutal from opp3 to prop3's points on governmental responsibilities toward citizens caught by terrorists.\n",
      "8. (63, 41): Rebuttal from prop3 to opposition's argument about the lack of justification in the proposition’s plan.\n",
      "9. (66, 47): Rebutal from prop3 targeting opp2’s argument that blocking ransom payments will lead to more harm and no effective prevention of terrorist activities.\n",
      "\n",
      "These rebuttals indicate a robust interaction between the teams, focusing on the consequences and ethical considerations of criminalizing ransom payments, the effectiveness of government measures, and the immediate practical implications on individuals and broader societal safety.\n"
     ]
    }
   ],
   "source": [
    "print(response.choices[0].message.content)"
   ]
  },
  {
   "cell_type": "code",
   "execution_count": 48,
   "metadata": {},
   "outputs": [
    {
     "name": "stdout",
     "output_type": "stream",
     "text": [
      "{'prop1': [{0: \"Thank you, Mr. Speaker and ladies and gentlemen in this house. Our side believes that we want to protect most moral people, every people, so every innocent people. And now another thing that's called the technology of hacking system or security camera is developing now and police can capture surprise information in the group of terrorists. So, thanks to those things, we can search those terrorists' move and act. \"}, {1: \"And the payment of ransom is money source of terrorist and criminal group. Huge rate of money source is ransom. Plus, criminal is very malicious. So, in many cases, even if victim's side pays huge money to the terrorist group and criminal groups, the victim will be killed by them. This is a very major case, but the family wants to protect their own family or own child, so they give money.\"}, {2: \"Okay, let's move on to my argument. I have two arguments in this round. Firstly, I'd like to talk about long-term benefits, capturing those terrorists' source of money. And secondly, to save all people and victims, this plan is a very efficient way. \"}, {3: 'Before, I want to define this motion. This house means all liberal democratic country. And when a criminal requests ransom from individual victims, family, or government or bank, in all situations, we criminalize the payment of ransom.'}, {4: \"Okay, let's move on to my argument. Firstly, I'd like to talk about the long-term benefits. Under the status quo, family strongly love the child or they have a very great memory from the child, so they strongly want to save, right? So, suddenly, they give money to terrorist groups. They are very confused about the situation; it's a crazy situation. So, they easily do without concern with police or specialists, so they cannot judge this system objectively. \"}, {5: \"So, in the rare case, they are very rich, so they can give the money. Another rare case, they are poor, they rent from the black market or something, not so good source of the money, comes to the poor family's house, and this money goes to the terrorist groups. So, terrorists get a huge source of money. \"}, {6: 'Why is it so big harm? Because if the terrorists have huge money, they can buy more weapons, such as guns and more harmful drugs or something, so they can expand power easily if they have more money. So, worse accidents will occur due to the money. So, we want to stop this source.'}, {7: \"After taking this plan, we criminalize this payment of ransom. So, reduce payment. Many people don't want to criminalize the ransom, so they can see this situation more objectively, and this is criminalized. So, if I give the money, it is criminalized, so we should consult with specialists or police. \"}, {8: 'So, in that case, police can effectively solve the situation because they have the technology, as I mentioned in the introduction, hacking or searching through the security camera, we can effectively search the terrorists and arrest them. So, in this case, we believe that long term, we can arrest the terrorists and save more, not expand the harm for another people and worse case.'}, {9: 'And secondly, I would like to explain why this plan can effectively save more people than now. So, as I mentioned in the introduction, even just paying of ransom to terrorist groups, this money, in the end, the terrorist is very malicious, so they kill or request more money. So, this request is not cut by only one request of ransom, so this ransom cannot save the victims, surely. '}, {10: 'And also, as I mentioned again and again, this money is very harmful to society because worse accidents occur and also the individual family and victims cannot save thanks to ransom. So, we strongly believe that ransom is meaningless for saving the individual victims and also it is very harmful for the society. In this viewpoint, we strongly propose this motion and I am happy to propose. Thank you.'}], 'opp1': [{11: 'Ladies and gentlemen, what the government says is that the reason why we have to prosecute the terrorists is that because they killed the citizens. They murdered the citizens. Ladies and gentlemen, we think that because we know that in order not to concede the terrorists, they are going to sacrifice the citizens. We believe that it is not very counterproductive if the fundamental purpose was against terrorism. '}, {12: 'So, before landing on my argumentation, I have to talk about something about the science department.'}, {13: \"Firstly, we have to confirm that the resource for the terrorists does not necessarily come from the nation itself. Ladies and gentlemen, for example, the income of the ISIS does not come from the oil field they took or the donation from some assistance to these kinds of terrorist groups. We think that in those cases, it is very unclear from the government's argumentation how to what extent the existence of ransom is going to contribute to the genocide of the terrorist groups. However, we think that in those cases, in this debate, we think that because the ransom itself does not so contribute to the empowerment of the terrorists, we don't think it is a good proposal.\"}, {14: \"So, about the model of the government side, the government side has said that they are going to let the police to censor the citizens. We think it is not realistic. Under their model, they are going to let the police to write a statement. We think it is not something justifiable, even if it can contribute to the vanishment of the terrorists. And also, we think that because even if the government does state that its citizens not to go to the terrorist group, we think that as long as the government can't fulfill their duty to protect the citizens, that means the government should not respect individuals to save the others or to save the citizens.\"}, {15: 'So, moving on to the government or the opposition side. About the model of the opposition side, we have to go by four. First, we are going to take the countermeasure against the terrorists. That is to say, after helping the hostages, we are going to do the air strike and so on.'}, {16: \"Secondly, as I said, the income of the terrorists comes from not only the ransom, but rather comes from the other resources such as the oil fields, such as QSOS, ISIS, and so on. We see that we don't necessarily pay the ransom in the first place.\"}, {17: 'Third, we are going to give the choice for citizens whether or not they are going to pay the ransom or not. We require citizens to compare the risk that it is beneficial for themselves to save the hostages and so on. '}, {18: 'And also, fourth, in the paradigm, we are going to require every state to intervene in the negotiation of terrorists in order to moderate the amount of ransom that the citizens are going to pay for saving the hostages and so on.'}, {19: \"So, fundamentally, we think that because there are some factors, the inevitable kidnapper is one of those. This is my first idea. We think that fundamentally, in the case of the spy or the social, that is, government, that is sent to the territory of terrorists, we think that they are not responsible for their own fault. That is to say, they kidnap them. We think that because the government forced these kind of people to go to the terrorist's territory, and as a consequence, they are going to be arrested by terrorists. In that case, you have to immobilize the government and make them fully responsible for saving these kind of people because we think that the government let them to go to the very dangerous area, and as a consequence, they are going to pay for their safety. We think that in that case, the government shouldn't anyway to deny the payment for ransom. \"}, {20: 'And also, we think that payment for ransom is the most effective way to save these kind of hostages because we think that if terrorists does not release these kind of hostages, that means that terrorists are going to express in public that if we are going to get the ransom, we are not going to release, we are not going to return those hostages. So if they say that the terrorist group is going to be incentivized by the public to pay ransom, so in that case, the case is a complete counter-vote for the terrorist group. Therefore, we think that if they pay the ransom, the terrorist group has an incentive to return these kind of hostages. '}, {21: 'And also, even if they stop the payment for ransom, the kidnapping does not stop because we think that the purpose of kidnapping does not necessarily come from the income of the ransom, ladies and gentlemen. For example, ISIS kidnapped the Syrians in order for their local government in order to fear the public and also it can be beneficial for itself. And also, in those cases, the purpose of kidnapping does not necessarily come from the ransom itself. Therefore, we think that because sometimes the government is fully responsible for the payment of ransom and also there is an inevitable case of kidnapping and also even after the kidnapping, the oppressor will not protect or prevent the kidnapping to be possible for the oppressor.'}, {22: \"And also, in addition to that, we have to recognize that even if people fully take care about and fully pay attention, they sometimes will be caught by terrorism. For example, even if you are outside of the terrorist territory, in any state that's caught, for example, the member of ISIS is going to cause you beyond the border of the country and also as a consequence, even if you pay full attention for that, you are going to be arrested by terrorism. That is to say, we need to ensure that each citizen can protect themselves. \"}, {23: 'And also, why do we need to ensure the right to help others? We think that the reason why we allow the citizens as a self-defense to kill other people is that because the government does not have the total self-duty to protect its citizens, citizens do not have any way to protect themselves by themselves. We think that in this case, it can be applicable because we think that the government fails to stop the citizens to go to these kinds of dangerous areas or from being captured by terrorism. We think that in that case, because citizens have no way to protect themselves, and also, government cannot fulfill these kinds of rights and these kinds of duties, in that case, obviously, government should ensure that they help themselves.'}, {24: 'And also, in addition to that, the biggest problem of this government side is that why they can justify to criminalize the act to save these kinds of citizens? Because we think that this is completely against the purpose of against terrorism.'}], 'prop2': [{25: \"Under the status quo, there are many incidents that are by terrorists. Many people are killed in airports or by Islamic State or ISIS. Many victims are existing and the victims' families suffer from the blacking of the family. They are killed by the terrorist, the service terrorists. So, we have to stop the situation. But after taking a bath, under the status quo, there are no solutions to stop. Uniquely, there is a high possibility to save the innocent citizens. So, we cannot stop the terrorists from killing people.\"}, {26: 'After taking this plan, we can minimize the situation because the almost payment of the terrorists is non-sum now. Many money is contributed to the terrorists by the citizens or government. Also, the individual issue. This is selfish and this makes the more serious situation around the world. So, we have to propose this proposal. Sorry.'}, {27: \"Firstly, I will refute my previous speaker. The previous speaker told you that the payment of ransom is small and it does not affect the revenue of the terrorists and it does not cause a terrible situation for the terrorists. But this is not true. Because if one person is caught by the terrorists, the government or someone who wants to save that person has to pay 1 billion yen or 10 billion yen or some very expensive money. So that's why, please imagine, the tank or rocket is about 1 billion yen or 10 million yen or so on. So, that's why, by one person, only one person, the terrorists can buy many weapons. And by buying only that weapon, many people are threatened by the situation. So, there is a possibility to be killed by the rocket or tank or so, a very serious, a very powerful weapon.\"}, {28: 'So, if around the world, the many, sorry, the many victims and many people pay so much money to the terrorists, terrorist groups, as my partner told you that the terrorists can get much money and can have possibility to expand their power and after that, around the world, there are many incidents by terrorists and many people will suffer from the threat by the terrorists. It is very harmful for the around the world, many people. Sorry, let me move on our argument.'}, {29: 'I will explain the, by payment of ransom, the terrorists will abuse that right to get the money, much money, and the harmful of the situation. One argument. And secondly, I will comparison the both side. Firstly, I will explain the payment of ransom is harmful. Okay.'}, {30: '<POI> So, do you think that the bomb which killed thousands of people are 2 billion yen?'}, {31: 'If the terrorists are followed by the government or police, it is harmful for terrorists itself. So, no. The payment of ransom should be expensive because also terrorists have risk to be watched by the government or catched by the government because of the interaction with the terrorists and government. So, terrorists have risk, so terrorists can need much money. So, in order to save the victims, the citizens have to pay much money, something billion yen.'}, {32: \"Firstly, I will explain the status quo, the payment of ransom. The payment of ransom is very expensive, so that's why the terrorists, as I told you in my presentation, there are many weapons in the terrorist group and they can kill other people. Please imagine, if one country, one person pay much money, rich man, and pay much money for terrorists, and terrorists have much money, and even if the people can only save that victim, important for me, many people around the world will be, other countries, other innocent citizens will be suffered from the threat by the terrorists. It is very harmful for other people or many citizens. So, that's why we have to save that many people.\"}, {33: 'Secondly, I will comparison the both sides. After taking this plan, in the opposition paradigm, there are many incidents than now, and many people were killed by the terrorists, so we have to save that person by taking this proposal. Thank you very much.'}], 'opp2': [{34: \"Okay, ladies and gentlemen, we believe that today, all of the points, uh, today, the government side has not pointed out any justification in which why we can actually criminalize these people who actually want to just say solely want to save their families, their loved ones' lives. So we believe, so, uh, I'd like to point out, uh, why under the criminal justice system, this is not justifiable in my speech later on.\"}, {35: \"So, uh, we are here to oppose. So, uh, basically in my speech, I'd like to do, uh, three things. Firstly, I'd like to talk about, so why under the criminal justice system, why this is not justifiable. So we have, uh, brought the criteria here. And, um, secondly, I'd like to talk about how in the practical terms, this is, this plan is actually going to be counterproductive and, uh, this will actually, uh, kill many more innocent people under their paradigm. And thirdly, I'd like to talk about how, uh, how it is the state's responsibility and, uh, it is only one form of self-defense in this term.\"}, {36: 'So, uh, so yes, but before that, some couple of rebuttals to their points. Um, so firstly, about their point about, um, how we are going to, like, censor, uh, uh, security cameras and, like, hacking systems to these families or something. Well, we are very, uh, so we do not understand this vulnerability at all, right? How are these people going to be safe after doing this? And why is this going to be justified to continue censoring these, like, innocent people?'}, {37: 'And secondly, uh, they talked about the long-term benefit, how we can stop the source and it will, um, somehow, uh, lead to saving people. But they have not given any mechanism to this point, right? '}, {38: 'So how will the stopping of payment of ransom actually save people, which I will talk about later on because the source of, source is not only ransom and there are many other criteria and factors that actually is empowering these terrorist groups.'}, {39: \"And, um, we believe that actually, uh, when we, uh, this causes, this causes detrimental harm because when we stop these families from being able to pay this ransom, what will actually happen is that these families will not forget this fact that they were not allowed to, uh, that they, that if they, like, pay this ransom, they are going to be criminalized. They will feel like they will be betrayed by the state. So it's actually rather just empowering the terrorists if they see that the state is like conflicting within themselves. So this is actually causes much more harm.\"}, {40: 'And so, uh, and also, uh, there is like other ways, like we can, uh, we can at first like pay and save this one individual that will, that will definitely be, uh, that will definitely be, uh, their lives will be taken away under their paradigm. And later on we can combat the terrorists in other ways, which is, uh, which is much more going to be important and collect the money afterwards. So, uh, we should leave this choice to be able to, uh, pay this ransom. So I will talk about that later on. So moving on to this, just, uh, to why this is, uh, to my point.'}, {41: 'So firstly, why this is not, why this plan is not justifiable under the criminal justice system. So in the criminal justice system, firstly, we need to see whether this act is illegal or not, right? So, um, in the case of the payment of ransom, it does not connect to the direct harm to somebody else. So like maybe the harm is like, no, maybe the harm is like, uh, might occur, but maybe it might not. '}, {42: 'So in this criminal justice system, the punishment has to be objective. But in this case, it is extremely subjective because like even now there are still cases where, uh, people, uh, where like ransom is not paid. However, these terrorist groups still exist, right? So like for example, in the cases of ISIS, they export, uh, oil and they, uh, collect the money from that. And rather these kinds of things are, uh, these kinds of things are the factors and resources for these terrorist groups. So just by, uh, just by stopping this payment of ransom does not lead to, uh, the benefits that they want to talk about. So we have to, uh, combat in other ways.'}, {43: \"And secondly, uh, we have to, uh, consider the responsibility of these individuals. So, uh, if these, uh, so the people who paid the ransom has no intention to harm others, right? They solely want to save their families and their loved ones. So we cannot, um, just simply say that, uh, they are not, they are going to be criminalized just because they want to save these people. And it is not justifiable because it means that the, uh, criminalizing means that the state is actually going to ignore these people's, uh, these people's lifestyle. It's definitely going to be taken away under their paradigm.\"}, {44: \"So moving on to this practical benefits, uh, we believe that, um, uh, taking this plan is completely counterproductive and will cause many more innocent people's lives to be deprived. So, uh, there's going to be two consequences that can be, uh, that can be thought. \"}, {45: \"So firstly, uh, when we criminalize it, uh, uh, what might happen is that the families are going to, um, are going to negotiate with the criminal individually and secretly. So rather taking this plan is just going to push this, uh, push this payment of ransom underground. And, uh, if so, we believe it's a comparative better than the status quo when the state, when the state can actually intervene and the state can also, like, uh, negotiate instead of, uh, instead of making these families do it. \"}, {46: 'And when the families do it individually and secretly, they will have to pay a huge amount of money. And rather this means that, uh, like huge, much more big, huger and bigger amounts of money. So rather this is going to empower terrorists, right? '}, {47: \"And secondly, uh, when, uh, uh, we should leave, like, a ground for these, uh, uh, to, like, negotiate and pay. Because when, like, we cannot pay making ransom, it's going to be difficult. These terrorists are not going to be satisfied, right? They are going to be desperate to get more money. So what will happen is that they are going to be kidnapped more people and they are going to kill more people. And for example, they will take, take over the states within that, uh, territory of their terrorist groups and they are going to kill innocent people and they are going to, like, uh, take over the, uh, banks and et cetera to get even more money and to empower themselves. And so we, we believe that this is actually going to kill many, many more innocent people under their power then.\"}, {48: \"So thirdly, uh, we believe that, um, uh, this, as, as we have already told you, uh, it is the state's responsibility that the state cannot seek and protect the safety of its citizens, right? So, uh, it is not justifiable to criminalize the act of saving someone as we have already told you. So we believe that the government has to do its best to save these people and completely ignoring them and completely just pushing them that saying that it is, uh, it is something, it is going to be criminalized is, uh, uh, is very detrimental, uh, is very harmful because, uh, it means that the state is going to actively kill someone, right?\"}, {49: \"Uh, they are going to ignore this one definite victim that is going to actually happen. So like, for example, even in today, like when the police is not there, others can try to save it, save someone even if, uh, even if, even if, even if it causes harms to others. So in this case, it is the state's responsibility to, uh, uh, to be able to leave a choice, at least leave a choice for these people to pay the ransom and, and save this one, uh, life that is definitely going to be deprived under their paradigm.\"}, {50: 'So, uh, so, uh, concluding my speech, when you consider how many lives are actually going to be taken away, how many innocent people are actually going to be killed, uh, the opposition side win about the uncertain benefits coming from the, uh, government side.'}], 'opp3': [{51: \"The overall foundation coming from the government's guidelines are, in order to save the mass population, they are going to sacrifice the financial. But if it is possible, then we think it is better. \"}, {52: 'However, we think that because of lack of mechanism, how they are going to de-empower the terrorists is unclear. And also, that it does not believe that they actually the weaken the terrorists. And also, perfectly to prevent terrorism, we oppose this proposal.'}, {53: 'Because we think that by taking this proposal, we are going to sacrifice that individual who are not responsible for being captured by terrorists. And also, because the government has a responsibility to save these kind of individuals. '}, {54: \"So, firstly, I'm going to point out why this government side does not have any work ability to prevent terrorism. And secondly, given that, what state should do and what is the responsibility of the state and the government.\"}, {55: \"Firstly, the government has constantly told you, by taking this proposal, they are going to prevent, they are going to protect civilians. However, we don't think that it is the case. And lastly, as I and my partner have constantly told you, because the income of terrorists does not necessarily come from the ransom, it is not genuine. Because they have any way to gain the financial power, such as the exploitation, and so on.\"}, {56: \"In that case, if you want to do terrorism, what you need is a bomb, a gun, and so on. We don't think that they need to gain thousands of money in order to get that gun or bomb, ladies and gentlemen. We think that in those cases, we cannot understand why in their paradigm they can completely protect the citizens, and also why they can justify the sacrifice of citizens, ladies and gentlemen.\"}, {57: 'So, secondly, what state should do? As I said in the past speeches, though the auditing was different, there are people who are not responsible for their being captured. For example, spies, soldiers, journalists, and so on. These kind of people do not arbitrarily go to these kind of areas to be captured by terrorists, ladies and gentlemen. Because these kind of people are sometimes forced to go to these kind of dangerous areas, like government, companies, and so on.'}, {58: \"Because we think that it is understandable that those people who are going to be forced to go to these kind of areas, and also selfishly being captured, it can be understandable, but there is no mention of that one. We think that in that case, those people were not fully responsible for their own act. They believed that the government had a responsibility to protect its citizens, and also there's no justification to prohibit to save these kind of people by the family or state, ladies and gentlemen. So because we believe that the government feels its responsibility to protect citizens, to ensure the safety of citizens, we believe that the government should make an effort to protect citizens.\"}, {59: 'And also, as the opposition side constantly told you, because the reason why we have to prosecute the terrorists is to save its citizens. However, this government is going to sacrifice citizens in order to weaken the terrorists, ladies and gentlemen. Even if in that paradigm, the terrorism will constantly occur, and also they have not abandoned the protection of citizens, and also, however, in the paradigm of the opposition side, we are going to protect citizens, however, the situation does not slightly change.'}, {60: \"As my partner has told you, because after taking this proposal, because the family wants to protect, wants to save their members of the family, they are going to do the negotiation with every secrecy. That is to say that the payment of ransom will not be possible, and also in that scenario, it is more harmful because we believe that there's no government protection in that negotiation, and also they cannot supervise the negotiation. In those cases, because we are against terrorism.\"}], 'prop3': [{61: 'Thank you, Mr. Speaker, ladies and gentlemen in this house. We want to cut the source and we want to protect the warse accidents such as more 100,000 or 1 billion people are killed by the gas or bombs in advance.'}, {62: \"So and where after taking this plan, our government clearly showed that the citizen and terrorists, the government's stance that ransom is guilty. Terrorist group's action won't escalate. As usual, government remain to give money to terrorists. They request a yen and yen. And we want to stop this occasion and this motion is uniquely and only way to cut source of this case. \"}, {63: \"OK. Let's move on my summarize. But I want to repeat my previous speaker. I have three refutations. Firstly, she said family cannot save because they cannot give ransom to terrorists. So it is pity. But it is not true. But as I mentioned in my constructive speech, but even if the ransom, they are family in the ransom, in the major case, the victim, the child will be killed by the terrorist. So even if they cannot save, in most case, they are pity. So we stop this. It is no problem. \"}, {64: \"And secondly, she said we don't save the justification, so I want to justificate now. Namsung is equal to give money to terrorists. It is equal to support terrorist act. It is very guilty. Even if subjective, but support is very guilty. So it is in the criminal justice system, they should be criminalized, right? Yes. OK. \"}, {65: 'And thirdly, they negotiate secretly. So this is a good point. But we believe that police is not so, so police can intervene also secretly not to know from terrorists. They do more secretly and they can, police is good, is specialist. So only families or not specialist are nervous people, negotiate secretly is more than our police can do well than our individual. So we think thanks to police, it is effectively solve the problem. '}, {66: \"OK. I want to summarize this debate. I have two crash points. Firstly, which plan can prevent worst case accidents such as one million people died. This plan, as I told you that in confused situation, people cannot think safely deeply and they do easily to give money to terrorists. So it is not saving victims and our opposition says countermeasures but it is no mechanism and they are irrational in public place. But I don't know, I don't know the mechanism. So our side is sperior.\"}, {67: \"And secondly, which is better, protect victims and the large number of people. Opposition side strongly talk about one people's right, one people's right. But our side mentions again and again the major majority people's right. So which is more important to protect? The answer is surely the more people. So from that reason, our side's theory to opposition side. Thank you for listening.\"}]}\n"
     ]
    }
   ],
   "source": [
    "print(output)"
   ]
  },
  {
   "cell_type": "code",
   "execution_count": 52,
   "metadata": {},
   "outputs": [
    {
     "name": "stdout",
     "output_type": "stream",
     "text": [
      "[(27, 13), (36, 8), (37, 2), (38, 9), (39, 9), (45, 14), (46, 14), (63, 34), (64, 34), (65, 39)]\n"
     ]
    }
   ],
   "source": [
    "user_prompt = f\"Return the list of tuples of rebuttals i.e., (id of rebuttal source, id of rebuttal target) about the following debate. YOU MUST NOT RETURN ANYTHING OTHER THAN THE LIST OF TUPLES. {output}\"\n",
    "\n",
    "response = await client.chat.completions.create(\n",
    "    model=\"gpt-4o\",\n",
    "    messages=[\n",
    "        {\"role\": \"system\", \"content\": \"You are a judge in the competitive debate and have to objectively analyze structures of arguments\"},\n",
    "        {\"role\": \"user\", \"content\": user_prompt}\n",
    "    ]\n",
    ")\n",
    "\n",
    "print(response.choices[0].message.content)"
   ]
  },
  {
   "cell_type": "code",
   "execution_count": 53,
   "metadata": {},
   "outputs": [
    {
     "name": "stdout",
     "output_type": "stream",
     "text": [
      "[(27, 13), (36, 8), (37, 2), (38, 9), (39, 9), (45, 14), (46, 14), (63, 34), (64, 34), (65, 39)]\n"
     ]
    }
   ],
   "source": [
    "print(response.choices[0].message.content)"
   ]
  },
  {
   "cell_type": "code",
   "execution_count": 51,
   "metadata": {},
   "outputs": [
    {
     "name": "stdout",
     "output_type": "stream",
     "text": [
      "[(27, 13), (36, 8), (37, 7), (38, 7), (39, 3), (40, 10), (41, 9), (42, 8), (43, 8), (45, 7), (49, 10), (52, 7), (55, 7), (56, 6)]\n"
     ]
    }
   ],
   "source": [
    "print(response.choices[0].message.content)"
   ]
  }
 ],
 "metadata": {
  "kernelspec": {
   "display_name": "base",
   "language": "python",
   "name": "python3"
  },
  "language_info": {
   "codemirror_mode": {
    "name": "ipython",
    "version": 3
   },
   "file_extension": ".py",
   "mimetype": "text/x-python",
   "name": "python",
   "nbconvert_exporter": "python",
   "pygments_lexer": "ipython3",
   "version": "3.11.5"
  }
 },
 "nbformat": 4,
 "nbformat_minor": 2
}
